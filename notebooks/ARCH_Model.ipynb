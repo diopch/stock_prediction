{
 "cells": [
  {
   "cell_type": "markdown",
   "metadata": {
    "id": "fu-TYLEF3nf0"
   },
   "source": [
    "# ARCH model "
   ]
  },
  {
   "cell_type": "markdown",
   "metadata": {
    "id": "VzrHz-RaCsRZ"
   },
   "source": [
    "* Dans le domaine des investissements financiers, la volatilité est une mesure \n",
    "statistique largement utilisée pour montrer la dispersion des rendements des actifs financiers dans le temps.\n",
    "\n",
    "* En général, plus la volatilité est élevée, plus l'actif financier est risqué. \n",
    "\n",
    "* Ces informations sont utiles pour aider un investisseur ou un négociant à différencier un actif à faible risque d'un actif à risque élevé.\n",
    "\n",
    "\n",
    "\n"
   ]
  },
  {
   "cell_type": "markdown",
   "metadata": {
    "id": "pDRbTHaU3sGL"
   },
   "source": [
    "## Etape 1: Charger et inspecter les données"
   ]
  },
  {
   "cell_type": "code",
   "execution_count": 1,
   "metadata": {
    "colab": {
     "base_uri": "https://localhost:8080/"
    },
    "id": "asyD9V6_4SvS",
    "outputId": "c5075d92-0d48-4d06-d43f-68c2be53df25"
   },
   "outputs": [
    {
     "name": "stdout",
     "output_type": "stream",
     "text": [
      "Collecting arch\n",
      "  Downloading arch-4.19-cp38-cp38-macosx_10_9_x86_64.whl (795 kB)\n",
      "\u001b[K     |████████████████████████████████| 795 kB 2.9 MB/s eta 0:00:01\n",
      "\u001b[?25hRequirement already satisfied: statsmodels>=0.10 in /Users/arnaudraybaud/.pyenv/versions/3.8.6/envs/stock_prediction/lib/python3.8/site-packages (from arch) (0.12.2)\n",
      "Collecting property-cached>=1.6.4\n",
      "  Downloading property_cached-1.6.4-py2.py3-none-any.whl (7.8 kB)\n",
      "Requirement already satisfied: numpy>=1.14 in /Users/arnaudraybaud/.pyenv/versions/3.8.6/envs/stock_prediction/lib/python3.8/site-packages (from arch) (1.19.5)\n",
      "Requirement already satisfied: scipy>=1.2.3 in /Users/arnaudraybaud/.pyenv/versions/3.8.6/envs/stock_prediction/lib/python3.8/site-packages (from arch) (1.6.3)\n",
      "Requirement already satisfied: cython>=0.29.14 in /Users/arnaudraybaud/.pyenv/versions/3.8.6/envs/stock_prediction/lib/python3.8/site-packages (from arch) (0.29.23)\n",
      "Requirement already satisfied: pandas>=0.23 in /Users/arnaudraybaud/.pyenv/versions/3.8.6/envs/stock_prediction/lib/python3.8/site-packages (from arch) (1.2.4)\n",
      "Requirement already satisfied: pytz>=2017.3 in /Users/arnaudraybaud/.pyenv/versions/3.8.6/envs/stock_prediction/lib/python3.8/site-packages (from pandas>=0.23->arch) (2021.1)\n",
      "Requirement already satisfied: python-dateutil>=2.7.3 in /Users/arnaudraybaud/.pyenv/versions/3.8.6/envs/stock_prediction/lib/python3.8/site-packages (from pandas>=0.23->arch) (2.8.1)\n",
      "Requirement already satisfied: six>=1.5 in /Users/arnaudraybaud/.pyenv/versions/3.8.6/envs/stock_prediction/lib/python3.8/site-packages (from python-dateutil>=2.7.3->pandas>=0.23->arch) (1.16.0)\n",
      "Requirement already satisfied: patsy>=0.5 in /Users/arnaudraybaud/.pyenv/versions/3.8.6/envs/stock_prediction/lib/python3.8/site-packages (from statsmodels>=0.10->arch) (0.5.1)\n",
      "Installing collected packages: property-cached, arch\n",
      "Successfully installed arch-4.19 property-cached-1.6.4\n"
     ]
    }
   ],
   "source": [
    "!pip install arch"
   ]
  },
  {
   "cell_type": "code",
   "execution_count": 2,
   "metadata": {
    "colab": {
     "base_uri": "https://localhost:8080/"
    },
    "id": "sgbDmBoQ34oN",
    "outputId": "3d175d25-e5c2-4ea5-a3a7-be4a299ce7e1"
   },
   "outputs": [
    {
     "name": "stderr",
     "output_type": "stream",
     "text": [
      "<ipython-input-2-e87b6f926054>:8: FutureWarning: The pandas.datetime class is deprecated and will be removed from pandas in a future version. Import from datetime module instead.\n",
      "  from pandas import datetime\n"
     ]
    }
   ],
   "source": [
    "#Import required libraries\n",
    "\n",
    "import math\n",
    "import numpy as np \n",
    "import pandas as pd \n",
    "import matplotlib.pyplot as plt\n",
    "from pandas.plotting import lag_plot\n",
    "from pandas import datetime\n",
    "from statsmodels.tsa.arima_model import ARIMA\n",
    "from sklearn.metrics import mean_squared_error\n",
    "from arch import arch_model\n",
    "\n",
    "import ipdb;"
   ]
  },
  {
   "cell_type": "code",
   "execution_count": 76,
   "metadata": {
    "id": "izgH9ydxfP-q"
   },
   "outputs": [],
   "source": [
    "def get_data_arch(action):\n",
    "\n",
    "    company_dict = {\n",
    "        'asml' : 'ASML.AS',\n",
    "        'lvmh': 'MC.PA',\n",
    "        'sap' : 'SAP.DE',\n",
    "        'linde' : 'LIN',\n",
    "        'siemens' : 'SIE.DE',\n",
    "        'total' : 'FP.PA',\n",
    "        'sanofi' : 'SAN.PA',\n",
    "        'allianz' : 'ALV.DE', 'loreal' : '',\n",
    "        'schneider' : 'SU.PA',\n",
    "        'iberdrola' : 'IBE.MC',\n",
    "        'enel' : 'ENEL.MI',\n",
    "        'air-liquide' : 'AI.PA',\n",
    "        'basf' : 'BAS.DE',\n",
    "        'bayer' : 'BAYN.DE',\n",
    "        'adidas' : 'ADS.DE',\n",
    "        'airbus' : 'AIR.PA',\n",
    "        'adyen' : 'ADYEN.AS',\n",
    "        'deutsche-telecom' : 'DTE.DE',\n",
    "        'daimler' : 'DAI.DE',\n",
    "        'bnp' : 'BNP.PA',\n",
    "        'anheuser-busch' : 'ABI.BR',\n",
    "        'vinci' : 'DG.PA',\n",
    "        'prosus' : 'PRX.AS',\n",
    "        'banco-santander' : 'SAN.MC',\n",
    "        'philips' : 'PHIA.AS',\n",
    "        'kering' : 'KER.PA',\n",
    "        'deutsche-post' : 'DPW.DE',\n",
    "        'axa' : 'CS.PA',\n",
    "        'safran' : 'SAF.PA',\n",
    "        'danone'  : 'BN.PA',\n",
    "        'essilor' : 'EL.PA',\n",
    "        'intensa' : 'ISP.MI',\n",
    "        'munchener' : 'MUV2.DE',\n",
    "        'pernod' : 'RI.PA',\n",
    "        'vonovia' : 'VNA.DE',\n",
    "        'vw' : 'VOW3.DE',\n",
    "        'ing' : 'INGA.AS',\n",
    "        'crh' : 'CRG.IR',\n",
    "        'industria-diseno' : 'ITX.MC',\n",
    "        'kone' : 'KNEBV.HE',\n",
    "        'deutsche-borse' : 'DB1.DE',\n",
    "        'ahold' : 'AHOG.DE',\n",
    "        'flutter' : 'FLTR.IR',\n",
    "        'amadeus' : 'AMS.MC',\n",
    "        'engie' : 'ENGI.PA',\n",
    "        'bmw' : 'BMW.DE',\n",
    "        'vivendi' : 'VIV.PA',\n",
    "        'eni' : 'ENI.MI',\n",
    "        'nokia' : 'NOKIA.HE'\n",
    "    }\n",
    "  \n",
    "\n",
    "    path = f\"/content/drive/MyDrive/Google_Colab_stock_prediction/raw_data/{company_dict[action]}.csv\"\n",
    "    df= pd.read_csv(path)\n",
    "    # Création d'une liste vide pour contenir les valeurs de prédiction glissante. \n",
    "    rolling_predictions = []\n",
    "    # Définissons la taille du test à 1 jours\n",
    "    test_size = 252\n",
    "    #Calculer le daily returns \n",
    "    df['Return'] = 100 * (df['Close'].pct_change())\n",
    "    df.dropna(inplace=True)\n",
    "\n",
    "    for i in range(test_size):\n",
    "    train = df['Return'][:-(test_size-i)]\n",
    "    #ipdb.set_trace()\n",
    "    model = arch_model(train, p=1, q=1)\n",
    "    model_fit = model.fit(disp='off')\n",
    "    pred = model_fit.forecast(horizon=1)\n",
    "    rolling_predictions.append(np.sqrt(pred.variance.values[-1,:][0]))\n",
    "\n",
    "    #df['arch_pred']= rolling_predictions\n",
    "    #pred = rolling_predictions.to_frame('arch_pred')\n",
    "\n",
    "    #Construct a Pandas series for the rolling_predictions.\n",
    "    rolling_predictions = pd.Series(rolling_predictions, index=df['Return'].index[-test_size:])\n",
    "\n",
    "    pred_df = rolling_predictions.to_frame('arch_pred')\n",
    "    df = df.join(pred_df, how='outer')\n",
    "\n",
    "\n",
    "\n",
    "    return df\n",
    "\n",
    "#.join(pred, how='outer')"
   ]
  },
  {
   "cell_type": "code",
   "execution_count": 3,
   "metadata": {},
   "outputs": [
    {
     "data": {
      "text/plain": [
       "32.22525096876671"
      ]
     },
     "execution_count": 3,
     "metadata": {},
     "output_type": "execute_result"
    }
   ],
   "source": [
    "2.03 * math.sqrt(252)"
   ]
  },
  {
   "cell_type": "code",
   "execution_count": 78,
   "metadata": {
    "colab": {
     "base_uri": "https://localhost:8080/",
     "height": 406
    },
    "id": "xeJmn1FHrL9A",
    "outputId": "693668ff-bc85-46a6-bcc2-a6f56be9fb6c"
   },
   "outputs": [
    {
     "data": {
      "text/html": [
       "<div>\n",
       "<style scoped>\n",
       "    .dataframe tbody tr th:only-of-type {\n",
       "        vertical-align: middle;\n",
       "    }\n",
       "\n",
       "    .dataframe tbody tr th {\n",
       "        vertical-align: top;\n",
       "    }\n",
       "\n",
       "    .dataframe thead th {\n",
       "        text-align: right;\n",
       "    }\n",
       "</style>\n",
       "<table border=\"1\" class=\"dataframe\">\n",
       "  <thead>\n",
       "    <tr style=\"text-align: right;\">\n",
       "      <th></th>\n",
       "      <th>Date</th>\n",
       "      <th>Open</th>\n",
       "      <th>High</th>\n",
       "      <th>Low</th>\n",
       "      <th>Close</th>\n",
       "      <th>Adj Close</th>\n",
       "      <th>Volume</th>\n",
       "      <th>Return</th>\n",
       "      <th>arch_pred</th>\n",
       "    </tr>\n",
       "  </thead>\n",
       "  <tbody>\n",
       "    <tr>\n",
       "      <th>1</th>\n",
       "      <td>2016-06-08</td>\n",
       "      <td>61.220001</td>\n",
       "      <td>61.450001</td>\n",
       "      <td>60.910000</td>\n",
       "      <td>61.349998</td>\n",
       "      <td>58.069687</td>\n",
       "      <td>939431</td>\n",
       "      <td>-0.243906</td>\n",
       "      <td>NaN</td>\n",
       "    </tr>\n",
       "    <tr>\n",
       "      <th>2</th>\n",
       "      <td>2016-06-09</td>\n",
       "      <td>61.119999</td>\n",
       "      <td>61.230000</td>\n",
       "      <td>60.389999</td>\n",
       "      <td>61.000000</td>\n",
       "      <td>57.738400</td>\n",
       "      <td>860170</td>\n",
       "      <td>-0.570494</td>\n",
       "      <td>NaN</td>\n",
       "    </tr>\n",
       "    <tr>\n",
       "      <th>3</th>\n",
       "      <td>2016-06-10</td>\n",
       "      <td>60.830002</td>\n",
       "      <td>61.029999</td>\n",
       "      <td>60.169998</td>\n",
       "      <td>60.680000</td>\n",
       "      <td>57.435513</td>\n",
       "      <td>1385683</td>\n",
       "      <td>-0.524590</td>\n",
       "      <td>NaN</td>\n",
       "    </tr>\n",
       "    <tr>\n",
       "      <th>4</th>\n",
       "      <td>2016-06-13</td>\n",
       "      <td>59.570000</td>\n",
       "      <td>59.779999</td>\n",
       "      <td>58.619999</td>\n",
       "      <td>58.619999</td>\n",
       "      <td>55.485657</td>\n",
       "      <td>1634715</td>\n",
       "      <td>-3.394860</td>\n",
       "      <td>NaN</td>\n",
       "    </tr>\n",
       "    <tr>\n",
       "      <th>5</th>\n",
       "      <td>2016-06-14</td>\n",
       "      <td>57.810001</td>\n",
       "      <td>58.099998</td>\n",
       "      <td>57.020000</td>\n",
       "      <td>57.020000</td>\n",
       "      <td>53.971207</td>\n",
       "      <td>1381591</td>\n",
       "      <td>-2.729442</td>\n",
       "      <td>NaN</td>\n",
       "    </tr>\n",
       "    <tr>\n",
       "      <th>...</th>\n",
       "      <td>...</td>\n",
       "      <td>...</td>\n",
       "      <td>...</td>\n",
       "      <td>...</td>\n",
       "      <td>...</td>\n",
       "      <td>...</td>\n",
       "      <td>...</td>\n",
       "      <td>...</td>\n",
       "      <td>...</td>\n",
       "    </tr>\n",
       "    <tr>\n",
       "      <th>1274</th>\n",
       "      <td>2021-05-31</td>\n",
       "      <td>123.500000</td>\n",
       "      <td>123.800003</td>\n",
       "      <td>122.120003</td>\n",
       "      <td>122.360001</td>\n",
       "      <td>122.360001</td>\n",
       "      <td>397991</td>\n",
       "      <td>-1.417984</td>\n",
       "      <td>2.030831</td>\n",
       "    </tr>\n",
       "    <tr>\n",
       "      <th>1275</th>\n",
       "      <td>2021-06-01</td>\n",
       "      <td>123.220001</td>\n",
       "      <td>125.019997</td>\n",
       "      <td>122.300003</td>\n",
       "      <td>124.440002</td>\n",
       "      <td>124.440002</td>\n",
       "      <td>425900</td>\n",
       "      <td>1.699903</td>\n",
       "      <td>1.969716</td>\n",
       "    </tr>\n",
       "    <tr>\n",
       "      <th>1276</th>\n",
       "      <td>2021-06-02</td>\n",
       "      <td>124.500000</td>\n",
       "      <td>125.879997</td>\n",
       "      <td>123.760002</td>\n",
       "      <td>125.680000</td>\n",
       "      <td>125.680000</td>\n",
       "      <td>605769</td>\n",
       "      <td>0.996463</td>\n",
       "      <td>1.918087</td>\n",
       "    </tr>\n",
       "    <tr>\n",
       "      <th>1277</th>\n",
       "      <td>2021-06-03</td>\n",
       "      <td>125.940002</td>\n",
       "      <td>126.160004</td>\n",
       "      <td>123.739998</td>\n",
       "      <td>123.860001</td>\n",
       "      <td>123.860001</td>\n",
       "      <td>566820</td>\n",
       "      <td>-1.448121</td>\n",
       "      <td>1.809774</td>\n",
       "    </tr>\n",
       "    <tr>\n",
       "      <th>1278</th>\n",
       "      <td>2021-06-04</td>\n",
       "      <td>124.059998</td>\n",
       "      <td>124.239998</td>\n",
       "      <td>122.040001</td>\n",
       "      <td>122.519997</td>\n",
       "      <td>122.519997</td>\n",
       "      <td>450184</td>\n",
       "      <td>-1.081870</td>\n",
       "      <td>1.784742</td>\n",
       "    </tr>\n",
       "  </tbody>\n",
       "</table>\n",
       "<p>1278 rows × 9 columns</p>\n",
       "</div>"
      ],
      "text/plain": [
       "            Date        Open        High  ...   Volume    Return  arch_pred\n",
       "1     2016-06-08   61.220001   61.450001  ...   939431 -0.243906        NaN\n",
       "2     2016-06-09   61.119999   61.230000  ...   860170 -0.570494        NaN\n",
       "3     2016-06-10   60.830002   61.029999  ...  1385683 -0.524590        NaN\n",
       "4     2016-06-13   59.570000   59.779999  ...  1634715 -3.394860        NaN\n",
       "5     2016-06-14   57.810001   58.099998  ...  1381591 -2.729442        NaN\n",
       "...          ...         ...         ...  ...      ...       ...        ...\n",
       "1274  2021-05-31  123.500000  123.800003  ...   397991 -1.417984   2.030831\n",
       "1275  2021-06-01  123.220001  125.019997  ...   425900  1.699903   1.969716\n",
       "1276  2021-06-02  124.500000  125.879997  ...   605769  0.996463   1.918087\n",
       "1277  2021-06-03  125.940002  126.160004  ...   566820 -1.448121   1.809774\n",
       "1278  2021-06-04  124.059998  124.239998  ...   450184 -1.081870   1.784742\n",
       "\n",
       "[1278 rows x 9 columns]"
      ]
     },
     "execution_count": 78,
     "metadata": {
      "tags": []
     },
     "output_type": "execute_result"
    }
   ],
   "source": [
    "safran_df = get_data_arch('safran')\n",
    "safran_df"
   ]
  },
  {
   "cell_type": "code",
   "execution_count": null,
   "metadata": {
    "id": "mX-sdR4N4OmE"
   },
   "outputs": [],
   "source": [
    "#Chargeons maintenant les données de l'action Apple.\n",
    "from google.colab import drive\n",
    "drive.mount('/content/drive')"
   ]
  },
  {
   "cell_type": "code",
   "execution_count": 6,
   "metadata": {
    "id": "Nb0xtFyi4k1C"
   },
   "outputs": [],
   "source": [
    "path = \"/content/drive/MyDrive/Google_Colab_stock_prediction/raw_data/BN.PA.csv\"\n",
    "df= pd.read_csv(path)"
   ]
  },
  {
   "cell_type": "code",
   "execution_count": 7,
   "metadata": {
    "id": "YK3diaUL4tsz"
   },
   "outputs": [],
   "source": [
    "#Calculer le daily returns \n",
    "df['Return'] = 100 * (df['Close'].pct_change())"
   ]
  },
  {
   "cell_type": "code",
   "execution_count": 8,
   "metadata": {
    "colab": {
     "base_uri": "https://localhost:8080/",
     "height": 197
    },
    "id": "RlSzvOAv5AF3",
    "outputId": "de997f87-596c-4467-d885-f68581a0dbc9"
   },
   "outputs": [
    {
     "data": {
      "text/html": [
       "<div>\n",
       "<style scoped>\n",
       "    .dataframe tbody tr th:only-of-type {\n",
       "        vertical-align: middle;\n",
       "    }\n",
       "\n",
       "    .dataframe tbody tr th {\n",
       "        vertical-align: top;\n",
       "    }\n",
       "\n",
       "    .dataframe thead th {\n",
       "        text-align: right;\n",
       "    }\n",
       "</style>\n",
       "<table border=\"1\" class=\"dataframe\">\n",
       "  <thead>\n",
       "    <tr style=\"text-align: right;\">\n",
       "      <th></th>\n",
       "      <th>Date</th>\n",
       "      <th>Open</th>\n",
       "      <th>High</th>\n",
       "      <th>Low</th>\n",
       "      <th>Close</th>\n",
       "      <th>Adj Close</th>\n",
       "      <th>Volume</th>\n",
       "      <th>Return</th>\n",
       "    </tr>\n",
       "  </thead>\n",
       "  <tbody>\n",
       "    <tr>\n",
       "      <th>0</th>\n",
       "      <td>2016-06-07</td>\n",
       "      <td>63.000000</td>\n",
       "      <td>63.400002</td>\n",
       "      <td>62.840000</td>\n",
       "      <td>63.330002</td>\n",
       "      <td>52.699253</td>\n",
       "      <td>1012070</td>\n",
       "      <td>NaN</td>\n",
       "    </tr>\n",
       "    <tr>\n",
       "      <th>1</th>\n",
       "      <td>2016-06-08</td>\n",
       "      <td>63.090000</td>\n",
       "      <td>63.389999</td>\n",
       "      <td>62.950001</td>\n",
       "      <td>63.130001</td>\n",
       "      <td>52.532829</td>\n",
       "      <td>853089</td>\n",
       "      <td>-0.315808</td>\n",
       "    </tr>\n",
       "    <tr>\n",
       "      <th>2</th>\n",
       "      <td>2016-06-09</td>\n",
       "      <td>63.070000</td>\n",
       "      <td>63.169998</td>\n",
       "      <td>62.540001</td>\n",
       "      <td>62.790001</td>\n",
       "      <td>52.249901</td>\n",
       "      <td>768976</td>\n",
       "      <td>-0.538571</td>\n",
       "    </tr>\n",
       "    <tr>\n",
       "      <th>3</th>\n",
       "      <td>2016-06-10</td>\n",
       "      <td>62.689999</td>\n",
       "      <td>62.720001</td>\n",
       "      <td>61.320000</td>\n",
       "      <td>61.430000</td>\n",
       "      <td>51.118191</td>\n",
       "      <td>1390028</td>\n",
       "      <td>-2.165952</td>\n",
       "    </tr>\n",
       "    <tr>\n",
       "      <th>4</th>\n",
       "      <td>2016-06-13</td>\n",
       "      <td>60.799999</td>\n",
       "      <td>61.330002</td>\n",
       "      <td>60.470001</td>\n",
       "      <td>60.470001</td>\n",
       "      <td>50.319336</td>\n",
       "      <td>1314460</td>\n",
       "      <td>-1.562753</td>\n",
       "    </tr>\n",
       "  </tbody>\n",
       "</table>\n",
       "</div>"
      ],
      "text/plain": [
       "         Date       Open       High  ...  Adj Close   Volume    Return\n",
       "0  2016-06-07  63.000000  63.400002  ...  52.699253  1012070       NaN\n",
       "1  2016-06-08  63.090000  63.389999  ...  52.532829   853089 -0.315808\n",
       "2  2016-06-09  63.070000  63.169998  ...  52.249901   768976 -0.538571\n",
       "3  2016-06-10  62.689999  62.720001  ...  51.118191  1390028 -2.165952\n",
       "4  2016-06-13  60.799999  61.330002  ...  50.319336  1314460 -1.562753\n",
       "\n",
       "[5 rows x 8 columns]"
      ]
     },
     "execution_count": 8,
     "metadata": {
      "tags": []
     },
     "output_type": "execute_result"
    }
   ],
   "source": [
    "df.head()"
   ]
  },
  {
   "cell_type": "code",
   "execution_count": 10,
   "metadata": {
    "colab": {
     "base_uri": "https://localhost:8080/"
    },
    "id": "IDH0BiJBHzhP",
    "outputId": "df13ee09-7219-45c3-a0b9-f6092b76cac4"
   },
   "outputs": [
    {
     "data": {
      "text/plain": [
       "(1279, 8)"
      ]
     },
     "execution_count": 10,
     "metadata": {
      "tags": []
     },
     "output_type": "execute_result"
    }
   ],
   "source": [
    "df.shape"
   ]
  },
  {
   "cell_type": "markdown",
   "metadata": {
    "id": "2qrMbboL5CGa"
   },
   "source": [
    "* **REMARQUE :**\n",
    "\n",
    "La méthode **pct_change** calcule automatiquement les variations en pourcentage du prix de clôture du jour en cours par rapport au jour précédent. Veuillez noter que les variations en pourcentage peuvent être positives ou négatives, selon le sens des variations de prix. Les changements de pourcentage résultants sont stockés dans la nouvelle colonne \"Return\" du dataframe."
   ]
  },
  {
   "cell_type": "markdown",
   "metadata": {
    "id": "4-ODq5Wm6fDc"
   },
   "source": [
    "* **Plotting daily returns :**"
   ]
  },
  {
   "cell_type": "code",
   "execution_count": 11,
   "metadata": {
    "colab": {
     "base_uri": "https://localhost:8080/",
     "height": 281
    },
    "id": "w48PTWU25izG",
    "outputId": "6e979d30-6cad-4d0e-8b35-0ac62a7c6f35"
   },
   "outputs": [
    {
     "data": {
      "image/png": "[encoded data removed]",
      "text/plain": [
       "<Figure size 864x288 with 1 Axes>"
      ]
     },
     "metadata": {
      "needs_background": "light",
      "tags": []
     },
     "output_type": "display_data"
    }
   ],
   "source": [
    "df.dropna(inplace=True)\n",
    "\n",
    "fig = plt.figure()\n",
    "fig.set_figwidth(12)\n",
    "plt.plot(df['Return'], label = 'Daily Returns')\n",
    "plt.legend(loc='upper right')\n",
    "plt.title('Daily Returns Over Time')\n",
    "plt.show()"
   ]
  },
  {
   "cell_type": "markdown",
   "metadata": {
    "id": "IHAeVjwe6T1E"
   },
   "source": [
    "* **Calculation of daily, monthly, and annual volatility**"
   ]
  },
  {
   "cell_type": "markdown",
   "metadata": {
    "id": "gO8BSfP06Uzk"
   },
   "source": [
    "1. Utilisez la méthode std pour calculer l'écart type des prix de retour quotidiens et les valeurs résultantes sont affectées à une variable daily_volatility et affichez la sortie en utilisant l'instruction print."
   ]
  },
  {
   "cell_type": "code",
   "execution_count": 12,
   "metadata": {
    "colab": {
     "base_uri": "https://localhost:8080/"
    },
    "id": "QuZq8pmW622S",
    "outputId": "e9eca564-334d-4938-8e95-7566b9e98393"
   },
   "outputs": [
    {
     "name": "stdout",
     "output_type": "stream",
     "text": [
      "Daily volatility:  1.27%\n"
     ]
    }
   ],
   "source": [
    "daily_volatility = df['Return'].std()\n",
    "print('Daily volatility: ', '{:.2f}%'.format(daily_volatility))"
   ]
  },
  {
   "cell_type": "markdown",
   "metadata": {
    "id": "E70LTisz6w1w"
   },
   "source": [
    "1. Nous supposons qu'il y a 21 jours de négociation par mois et donc la volatilité mensuelle est calculée en multipliant la racine carrée de 21 avec la volatilité quotidienne."
   ]
  },
  {
   "cell_type": "code",
   "execution_count": 13,
   "metadata": {
    "colab": {
     "base_uri": "https://localhost:8080/"
    },
    "id": "4lP33TUi69-x",
    "outputId": "1d5321b5-ce86-408c-ba54-d6866b6bfc02"
   },
   "outputs": [
    {
     "name": "stdout",
     "output_type": "stream",
     "text": [
      "Monthly volatility:  5.80%\n"
     ]
    }
   ],
   "source": [
    "monthly_volatility = math.sqrt(21) * daily_volatility\n",
    "print ('Monthly volatility: ', '{:.2f}%'.format(monthly_volatility))"
   ]
  },
  {
   "cell_type": "markdown",
   "metadata": {
    "id": "qLwBQZ6_7A0J"
   },
   "source": [
    "1. Nous supposons qu'il y a 252 jours de négociation par mois et donc la volatilité annuelle est calculée en multipliant la racine carrée de 252 avec la volatilité quotidienne."
   ]
  },
  {
   "cell_type": "code",
   "execution_count": 14,
   "metadata": {
    "colab": {
     "base_uri": "https://localhost:8080/"
    },
    "id": "T-bRt_by7I4C",
    "outputId": "f5214b71-ca0f-4cbf-d629-a40d467062f1"
   },
   "outputs": [
    {
     "name": "stdout",
     "output_type": "stream",
     "text": [
      "Annual volatility:  20.08%\n"
     ]
    }
   ],
   "source": [
    "annual_volatility = math.sqrt(252) * daily_volatility\n",
    "print ('Annual volatility: ', '{:.2f}%'.format(annual_volatility ))"
   ]
  },
  {
   "cell_type": "markdown",
   "metadata": {
    "id": "zH8bhXgV7Mg1"
   },
   "source": [
    "**REMARQUE :**\n",
    "\n",
    "Nous pouvons constater que la volatilité annuelle de cette action (AAPL) est assez élevée. C'est la raison pour laquelle les investissements en actions sont toujours accompagnés de risques élevés et ne devraient jamais être négociés au hasard."
   ]
  },
  {
   "cell_type": "markdown",
   "metadata": {
    "id": "wSBtG1F-9ouo"
   },
   "source": [
    "* Les détails de la volatilité ci-dessus nous donnent uniquement une volatilité moyenne par jour, par mois et par an. Elles peuvent être utiles pour comparer le niveau de risque général entre deux ou plusieurs actions. Cependant, la volatilité d'une action n'est pas une valeur constante tout au long de l'année. En réalité, la volatilité fluctue à un niveau différent chaque jour. Une journée avec une volatilité très élevée peut avoir un impact important sur la volatilité des jours suivants et cet impact s'estompera avec le temps."
   ]
  },
  {
   "cell_type": "markdown",
   "metadata": {
    "id": "D9KUAviN7SI3"
   },
   "source": [
    "## Etape 2: Train Test Split "
   ]
  },
  {
   "cell_type": "code",
   "execution_count": 14,
   "metadata": {
    "id": "0sEJDRf07puo"
   },
   "outputs": [],
   "source": []
  },
  {
   "cell_type": "markdown",
   "metadata": {
    "id": "rA-7FHZW9A3s"
   },
   "source": [
    "## Etape 3: Construire le modèle"
   ]
  },
  {
   "cell_type": "markdown",
   "metadata": {
    "id": "odmvqKl-9Gz-"
   },
   "source": [
    "* Dans cette section, nous allons construire un modèle GARCH (Generalized Auto Regressive Conditional Heteroskedasticity) pour prédire la volatilité des actions sur la base des cours de clôture historiques et de la volatilité. La logique mathématique du modèle GARCH peut sembler compliquée mais nous pouvons utiliser la bibliothèque Python arch pour encapsuler la complexité mathématique en quelques lignes de scripts seulement.\n",
    "\n"
   ]
  },
  {
   "cell_type": "markdown",
   "metadata": {
    "id": "STgbkMvD_oRI"
   },
   "source": [
    "* Récupérez les  daily return data dans la fonction **arch_model**. \n",
    "Nous définissons p et q à 1 et laissons les paramètres de mean, vol et dist par défaut, qui sont 'constant', 'GARCH' et 'normal'."
   ]
  },
  {
   "cell_type": "code",
   "execution_count": 15,
   "metadata": {
    "id": "y6g_cjjOAD1A"
   },
   "outputs": [],
   "source": [
    "garch_model = arch_model(df['Return'], p = 1, q = 1,\n",
    "                      mean = 'constant', vol = 'GARCH', dist = 'normal')"
   ]
  },
  {
   "cell_type": "code",
   "execution_count": 16,
   "metadata": {
    "colab": {
     "base_uri": "https://localhost:8080/"
    },
    "id": "nFRr7oOpAHJy",
    "outputId": "15c0def3-34d0-49a8-8a0c-3e55bf77120c"
   },
   "outputs": [
    {
     "name": "stdout",
     "output_type": "stream",
     "text": [
      "mu          0.022377\n",
      "omega       0.055477\n",
      "alpha[1]    0.056376\n",
      "beta[1]     0.906536\n",
      "Name: params, dtype: float64\n"
     ]
    }
   ],
   "source": [
    "#Fit the GARCH model and print out the results\n",
    "gm_result = garch_model.fit(disp='off')\n",
    "print(gm_result.params)"
   ]
  },
  {
   "cell_type": "markdown",
   "metadata": {
    "id": "KhHfdL0gA9dz"
   },
   "source": [
    "**INTERPRETATION**\n",
    "\n",
    "* Plus la valeur alpha résultante est grande, plus l'impact immédiat de la volatilité de l'action est important. \n",
    "\n",
    "* D'un autre côté, un bêta plus grand indique une durée plus longue de l'impact de la volatilité."
   ]
  },
  {
   "cell_type": "markdown",
   "metadata": {
    "id": "zUKf9RKrBuWj"
   },
   "source": [
    "* Maintenant, nous allons utiliser la **forecast method** pour effectuer une prévision à 5 périodes **(horizon=1)**."
   ]
  },
  {
   "cell_type": "code",
   "execution_count": 17,
   "metadata": {
    "colab": {
     "base_uri": "https://localhost:8080/"
    },
    "id": "ilmOHxIC9lAJ",
    "outputId": "a9c642bf-ab7b-4a7a-e736-f79f2c433944"
   },
   "outputs": [
    {
     "name": "stdout",
     "output_type": "stream",
     "text": [
      "           h.1\n",
      "1278  1.271692\n"
     ]
    }
   ],
   "source": [
    "#print('\\n')\n",
    "gm_forecast = gm_result.forecast(horizon = 1)\n",
    "print(gm_forecast.variance[-1:])"
   ]
  },
  {
   "cell_type": "markdown",
   "metadata": {
    "id": "zDbYm_S6IDmR"
   },
   "source": [
    "* Le résultat de la prévision ci-dessus comprend la prévision à une étape en utilisant les données jusqu'au 1265 jours inclus inclus."
   ]
  },
  {
   "cell_type": "markdown",
   "metadata": {
    "id": "0Hp1iKuDIuFX"
   },
   "source": [
    "## Etape 3: Prévision roulante( Rolling forcast) en utilisant le modèle GARCH"
   ]
  },
  {
   "cell_type": "markdown",
   "metadata": {
    "id": "HB7b1unJJOFc"
   },
   "source": [
    "* À ce stade, nous avons construit un modèle GARCH qui peut prévoir la volatilité des actions. \n",
    "\n",
    "* Maintenant, nous pouvons tester notre modèle à travers un processus de prédiction continue en utilisant les données historiques dans la période de temps n."
   ]
  },
  {
   "cell_type": "code",
   "execution_count": 40,
   "metadata": {
    "id": "pW9r9u7vLY1P"
   },
   "outputs": [],
   "source": [
    "# Création d'une liste vide pour contenir les valeurs de prédiction glissante. \n",
    "rolling_predictions = []\n",
    "# Définissons la taille du test à 1 jours\n",
    "test_size = 252"
   ]
  },
  {
   "cell_type": "markdown",
   "metadata": {
    "id": "NTwvBpY-KWKT"
   },
   "source": [
    "Dans cette partie, nous créons un train set de manière répétée dans une boucle en utilisant les daily return values des actions à partir du premier jour jusqu'au jour **-( test_size-i)**. Cela signifie que dans la première boucle, les données du premier jour, du 5 janvier 2016 au 14 novembre 2019, seront ajustées au modèle GARCH. Dans la deuxième boucle, les données sont dérivées du 5 janvier 2016 au 15 novembre 2019 et ainsi de suite.\n",
    "\n"
   ]
  },
  {
   "cell_type": "code",
   "execution_count": 27,
   "metadata": {
    "colab": {
     "base_uri": "https://localhost:8080/",
     "height": 834
    },
    "id": "esqUOaBNUSu6",
    "outputId": "31cff4f3-76da-4081-d919-5aaecd81d89c"
   },
   "outputs": [
    {
     "name": "stdout",
     "output_type": "stream",
     "text": [
      "Collecting ipdb\n",
      "  Downloading https://files.pythonhosted.org/packages/fc/56/9f67dcd4a4b9960373173a31be1b8c47fe351a1c9385677a7bdd82810e57/ipdb-0.13.9.tar.gz\n",
      "Requirement already satisfied: setuptools in /usr/local/lib/python3.7/dist-packages (from ipdb) (57.0.0)\n",
      "Collecting ipython>=7.17.0\n",
      "\u001b[?25l  Downloading https://files.pythonhosted.org/packages/c0/34/abf879c9c8a282b2d06c880f3791ce91b25de1912bdcfa4a209afebe12f3/ipython-7.24.1-py3-none-any.whl (785kB)\n",
      "\u001b[K     |████████████████████████████████| 788kB 10.5MB/s \n",
      "\u001b[?25hRequirement already satisfied: toml>=0.10.2 in /usr/local/lib/python3.7/dist-packages (from ipdb) (0.10.2)\n",
      "Requirement already satisfied: decorator in /usr/local/lib/python3.7/dist-packages (from ipdb) (4.4.2)\n",
      "Requirement already satisfied: backcall in /usr/local/lib/python3.7/dist-packages (from ipython>=7.17.0->ipdb) (0.2.0)\n",
      "Requirement already satisfied: pygments in /usr/local/lib/python3.7/dist-packages (from ipython>=7.17.0->ipdb) (2.6.1)\n",
      "Requirement already satisfied: jedi>=0.16 in /usr/local/lib/python3.7/dist-packages (from ipython>=7.17.0->ipdb) (0.18.0)\n",
      "Requirement already satisfied: pexpect>4.3; sys_platform != \"win32\" in /usr/local/lib/python3.7/dist-packages (from ipython>=7.17.0->ipdb) (4.8.0)\n",
      "Collecting prompt-toolkit!=3.0.0,!=3.0.1,<3.1.0,>=2.0.0\n",
      "\u001b[?25l  Downloading https://files.pythonhosted.org/packages/eb/e6/4b4ca4fa94462d4560ba2f4e62e62108ab07be2e16a92e594e43b12d3300/prompt_toolkit-3.0.18-py3-none-any.whl (367kB)\n",
      "\u001b[K     |████████████████████████████████| 368kB 22.4MB/s \n",
      "\u001b[?25hRequirement already satisfied: traitlets>=4.2 in /usr/local/lib/python3.7/dist-packages (from ipython>=7.17.0->ipdb) (5.0.5)\n",
      "Requirement already satisfied: matplotlib-inline in /usr/local/lib/python3.7/dist-packages (from ipython>=7.17.0->ipdb) (0.1.2)\n",
      "Requirement already satisfied: pickleshare in /usr/local/lib/python3.7/dist-packages (from ipython>=7.17.0->ipdb) (0.7.5)\n",
      "Requirement already satisfied: parso<0.9.0,>=0.8.0 in /usr/local/lib/python3.7/dist-packages (from jedi>=0.16->ipython>=7.17.0->ipdb) (0.8.2)\n",
      "Requirement already satisfied: ptyprocess>=0.5 in /usr/local/lib/python3.7/dist-packages (from pexpect>4.3; sys_platform != \"win32\"->ipython>=7.17.0->ipdb) (0.7.0)\n",
      "Requirement already satisfied: wcwidth in /usr/local/lib/python3.7/dist-packages (from prompt-toolkit!=3.0.0,!=3.0.1,<3.1.0,>=2.0.0->ipython>=7.17.0->ipdb) (0.2.5)\n",
      "Requirement already satisfied: ipython-genutils in /usr/local/lib/python3.7/dist-packages (from traitlets>=4.2->ipython>=7.17.0->ipdb) (0.2.0)\n",
      "Building wheels for collected packages: ipdb\n",
      "  Building wheel for ipdb (setup.py) ... \u001b[?25l\u001b[?25hdone\n",
      "  Created wheel for ipdb: filename=ipdb-0.13.9-cp37-none-any.whl size=11649 sha256=dc7617de12cad70c2581e506f57f7f290712a888386dfcc0bb61d942b045265c\n",
      "  Stored in directory: /root/.cache/pip/wheels/fd/cd/67/bb18bf4caa63b6618f9ec64e8d1d8ba67edcf397cff328fbfb\n",
      "Successfully built ipdb\n",
      "\u001b[31mERROR: jupyter-console 5.2.0 has requirement prompt-toolkit<2.0.0,>=1.0.0, but you'll have prompt-toolkit 3.0.18 which is incompatible.\u001b[0m\n",
      "\u001b[31mERROR: google-colab 1.0.0 has requirement ipython~=5.5.0, but you'll have ipython 7.24.1 which is incompatible.\u001b[0m\n",
      "Installing collected packages: prompt-toolkit, ipython, ipdb\n",
      "  Found existing installation: prompt-toolkit 1.0.18\n",
      "    Uninstalling prompt-toolkit-1.0.18:\n",
      "      Successfully uninstalled prompt-toolkit-1.0.18\n",
      "  Found existing installation: ipython 5.5.0\n",
      "    Uninstalling ipython-5.5.0:\n",
      "      Successfully uninstalled ipython-5.5.0\n",
      "Successfully installed ipdb-0.13.9 ipython-7.24.1 prompt-toolkit-3.0.18\n"
     ]
    },
    {
     "data": {
      "application/vnd.colab-display-data+json": {
       "pip_warning": {
        "packages": [
         "IPython",
         "prompt_toolkit"
        ]
       }
      }
     },
     "metadata": {
      "tags": []
     },
     "output_type": "display_data"
    }
   ],
   "source": [
    "pip install ipdb"
   ]
  },
  {
   "cell_type": "code",
   "execution_count": 41,
   "metadata": {
    "id": "nlYOqYHW9lpI"
   },
   "outputs": [],
   "source": [
    "import ipdb;\n",
    "\n",
    "for i in range(test_size):\n",
    "    train = df['Return'][:-(test_size-i)]\n",
    "    #ipdb.set_trace()\n",
    "    model = arch_model(train, p=1, q=1)\n",
    "    model_fit = model.fit(disp='off')\n",
    "    pred = model_fit.forecast(horizon=1)\n",
    "    rolling_predictions.append(np.sqrt(pred.variance.values[-1,:][0]))"
   ]
  },
  {
   "cell_type": "markdown",
   "metadata": {
    "id": "sva2BR4DLt87"
   },
   "source": [
    "* Dans chaque boucle, un modèle GARCH est train avec les paramètres p et q fixés à 1. Le modèle actuel est utilisé pour prévoir la volatilité avec un pas de temps (horizon=1).\n",
    "\n",
    "* Puis la variance de la volatilité prédite est élevée au carré. La valeur finale (écart type) est ajoutée aux rolling_predictions.\n"
   ]
  },
  {
   "cell_type": "code",
   "execution_count": 37,
   "metadata": {
    "colab": {
     "base_uri": "https://localhost:8080/"
    },
    "id": "0hpvtIr3Vkzh",
    "outputId": "d72d547e-dff8-452f-a746-77288fc58f0e"
   },
   "outputs": [
    {
     "data": {
      "text/plain": [
       "2538"
      ]
     },
     "execution_count": 37,
     "metadata": {
      "tags": []
     },
     "output_type": "execute_result"
    }
   ],
   "source": [
    "len(rolling_predictions)"
   ]
  },
  {
   "cell_type": "code",
   "execution_count": 50,
   "metadata": {
    "id": "VZXFxltUf_Kl"
   },
   "outputs": [],
   "source": [
    "pred = rolling_predictions.to_frame('arch_pred')\n"
   ]
  },
  {
   "cell_type": "code",
   "execution_count": 51,
   "metadata": {
    "colab": {
     "base_uri": "https://localhost:8080/",
     "height": 406
    },
    "id": "lA9E2MUKguil",
    "outputId": "04e172e8-cb6d-4819-ca41-420ce2dd4184"
   },
   "outputs": [
    {
     "data": {
      "text/html": [
       "<div>\n",
       "<style scoped>\n",
       "    .dataframe tbody tr th:only-of-type {\n",
       "        vertical-align: middle;\n",
       "    }\n",
       "\n",
       "    .dataframe tbody tr th {\n",
       "        vertical-align: top;\n",
       "    }\n",
       "\n",
       "    .dataframe thead th {\n",
       "        text-align: right;\n",
       "    }\n",
       "</style>\n",
       "<table border=\"1\" class=\"dataframe\">\n",
       "  <thead>\n",
       "    <tr style=\"text-align: right;\">\n",
       "      <th></th>\n",
       "      <th>Date</th>\n",
       "      <th>Open</th>\n",
       "      <th>High</th>\n",
       "      <th>Low</th>\n",
       "      <th>Close</th>\n",
       "      <th>Adj Close</th>\n",
       "      <th>Volume</th>\n",
       "      <th>Return</th>\n",
       "      <th>arch_pred</th>\n",
       "    </tr>\n",
       "  </thead>\n",
       "  <tbody>\n",
       "    <tr>\n",
       "      <th>1</th>\n",
       "      <td>2016-06-08</td>\n",
       "      <td>63.090000</td>\n",
       "      <td>63.389999</td>\n",
       "      <td>62.950001</td>\n",
       "      <td>63.130001</td>\n",
       "      <td>52.532829</td>\n",
       "      <td>853089</td>\n",
       "      <td>-0.315808</td>\n",
       "      <td>NaN</td>\n",
       "    </tr>\n",
       "    <tr>\n",
       "      <th>2</th>\n",
       "      <td>2016-06-09</td>\n",
       "      <td>63.070000</td>\n",
       "      <td>63.169998</td>\n",
       "      <td>62.540001</td>\n",
       "      <td>62.790001</td>\n",
       "      <td>52.249901</td>\n",
       "      <td>768976</td>\n",
       "      <td>-0.538571</td>\n",
       "      <td>NaN</td>\n",
       "    </tr>\n",
       "    <tr>\n",
       "      <th>3</th>\n",
       "      <td>2016-06-10</td>\n",
       "      <td>62.689999</td>\n",
       "      <td>62.720001</td>\n",
       "      <td>61.320000</td>\n",
       "      <td>61.430000</td>\n",
       "      <td>51.118191</td>\n",
       "      <td>1390028</td>\n",
       "      <td>-2.165952</td>\n",
       "      <td>NaN</td>\n",
       "    </tr>\n",
       "    <tr>\n",
       "      <th>4</th>\n",
       "      <td>2016-06-13</td>\n",
       "      <td>60.799999</td>\n",
       "      <td>61.330002</td>\n",
       "      <td>60.470001</td>\n",
       "      <td>60.470001</td>\n",
       "      <td>50.319336</td>\n",
       "      <td>1314460</td>\n",
       "      <td>-1.562753</td>\n",
       "      <td>NaN</td>\n",
       "    </tr>\n",
       "    <tr>\n",
       "      <th>5</th>\n",
       "      <td>2016-06-14</td>\n",
       "      <td>60.900002</td>\n",
       "      <td>61.290001</td>\n",
       "      <td>59.939999</td>\n",
       "      <td>60.000000</td>\n",
       "      <td>49.928238</td>\n",
       "      <td>2926789</td>\n",
       "      <td>-0.777247</td>\n",
       "      <td>NaN</td>\n",
       "    </tr>\n",
       "    <tr>\n",
       "      <th>...</th>\n",
       "      <td>...</td>\n",
       "      <td>...</td>\n",
       "      <td>...</td>\n",
       "      <td>...</td>\n",
       "      <td>...</td>\n",
       "      <td>...</td>\n",
       "      <td>...</td>\n",
       "      <td>...</td>\n",
       "      <td>...</td>\n",
       "    </tr>\n",
       "    <tr>\n",
       "      <th>1274</th>\n",
       "      <td>2021-05-31</td>\n",
       "      <td>58.459999</td>\n",
       "      <td>59.389999</td>\n",
       "      <td>58.240002</td>\n",
       "      <td>58.299999</td>\n",
       "      <td>58.299999</td>\n",
       "      <td>1091801</td>\n",
       "      <td>-0.273691</td>\n",
       "      <td>1.287190</td>\n",
       "    </tr>\n",
       "    <tr>\n",
       "      <th>1275</th>\n",
       "      <td>2021-06-01</td>\n",
       "      <td>58.230000</td>\n",
       "      <td>58.599998</td>\n",
       "      <td>57.950001</td>\n",
       "      <td>58.220001</td>\n",
       "      <td>58.220001</td>\n",
       "      <td>1017600</td>\n",
       "      <td>-0.137218</td>\n",
       "      <td>1.249586</td>\n",
       "    </tr>\n",
       "    <tr>\n",
       "      <th>1276</th>\n",
       "      <td>2021-06-02</td>\n",
       "      <td>58.139999</td>\n",
       "      <td>58.689999</td>\n",
       "      <td>58.020000</td>\n",
       "      <td>58.360001</td>\n",
       "      <td>58.360001</td>\n",
       "      <td>1051791</td>\n",
       "      <td>0.240467</td>\n",
       "      <td>1.213090</td>\n",
       "    </tr>\n",
       "    <tr>\n",
       "      <th>1277</th>\n",
       "      <td>2021-06-03</td>\n",
       "      <td>58.439999</td>\n",
       "      <td>58.610001</td>\n",
       "      <td>57.939999</td>\n",
       "      <td>58.470001</td>\n",
       "      <td>58.470001</td>\n",
       "      <td>915915</td>\n",
       "      <td>0.188485</td>\n",
       "      <td>1.179529</td>\n",
       "    </tr>\n",
       "    <tr>\n",
       "      <th>1278</th>\n",
       "      <td>2021-06-04</td>\n",
       "      <td>58.700001</td>\n",
       "      <td>58.860001</td>\n",
       "      <td>58.500000</td>\n",
       "      <td>58.860001</td>\n",
       "      <td>58.860001</td>\n",
       "      <td>782075</td>\n",
       "      <td>0.667009</td>\n",
       "      <td>1.147614</td>\n",
       "    </tr>\n",
       "  </tbody>\n",
       "</table>\n",
       "<p>1278 rows × 9 columns</p>\n",
       "</div>"
      ],
      "text/plain": [
       "            Date       Open       High  ...   Volume    Return  arch_pred\n",
       "1     2016-06-08  63.090000  63.389999  ...   853089 -0.315808        NaN\n",
       "2     2016-06-09  63.070000  63.169998  ...   768976 -0.538571        NaN\n",
       "3     2016-06-10  62.689999  62.720001  ...  1390028 -2.165952        NaN\n",
       "4     2016-06-13  60.799999  61.330002  ...  1314460 -1.562753        NaN\n",
       "5     2016-06-14  60.900002  61.290001  ...  2926789 -0.777247        NaN\n",
       "...          ...        ...        ...  ...      ...       ...        ...\n",
       "1274  2021-05-31  58.459999  59.389999  ...  1091801 -0.273691   1.287190\n",
       "1275  2021-06-01  58.230000  58.599998  ...  1017600 -0.137218   1.249586\n",
       "1276  2021-06-02  58.139999  58.689999  ...  1051791  0.240467   1.213090\n",
       "1277  2021-06-03  58.439999  58.610001  ...   915915  0.188485   1.179529\n",
       "1278  2021-06-04  58.700001  58.860001  ...   782075  0.667009   1.147614\n",
       "\n",
       "[1278 rows x 9 columns]"
      ]
     },
     "execution_count": 51,
     "metadata": {
      "tags": []
     },
     "output_type": "execute_result"
    }
   ],
   "source": [
    "df.join(pred, how='outer')"
   ]
  },
  {
   "cell_type": "code",
   "execution_count": 46,
   "metadata": {
    "colab": {
     "base_uri": "https://localhost:8080/",
     "height": 406
    },
    "id": "-gIfk5Ovfzeo",
    "outputId": "73dbcca4-9118-4841-86e9-fb3cea40ee01"
   },
   "outputs": [
    {
     "data": {
      "text/html": [
       "<div>\n",
       "<style scoped>\n",
       "    .dataframe tbody tr th:only-of-type {\n",
       "        vertical-align: middle;\n",
       "    }\n",
       "\n",
       "    .dataframe tbody tr th {\n",
       "        vertical-align: top;\n",
       "    }\n",
       "\n",
       "    .dataframe thead th {\n",
       "        text-align: right;\n",
       "    }\n",
       "</style>\n",
       "<table border=\"1\" class=\"dataframe\">\n",
       "  <thead>\n",
       "    <tr style=\"text-align: right;\">\n",
       "      <th></th>\n",
       "      <th>Date</th>\n",
       "      <th>Open</th>\n",
       "      <th>High</th>\n",
       "      <th>Low</th>\n",
       "      <th>Close</th>\n",
       "      <th>Adj Close</th>\n",
       "      <th>Volume</th>\n",
       "      <th>Return</th>\n",
       "    </tr>\n",
       "  </thead>\n",
       "  <tbody>\n",
       "    <tr>\n",
       "      <th>1</th>\n",
       "      <td>2016-06-08</td>\n",
       "      <td>63.090000</td>\n",
       "      <td>63.389999</td>\n",
       "      <td>62.950001</td>\n",
       "      <td>63.130001</td>\n",
       "      <td>52.532829</td>\n",
       "      <td>853089</td>\n",
       "      <td>-0.315808</td>\n",
       "    </tr>\n",
       "    <tr>\n",
       "      <th>2</th>\n",
       "      <td>2016-06-09</td>\n",
       "      <td>63.070000</td>\n",
       "      <td>63.169998</td>\n",
       "      <td>62.540001</td>\n",
       "      <td>62.790001</td>\n",
       "      <td>52.249901</td>\n",
       "      <td>768976</td>\n",
       "      <td>-0.538571</td>\n",
       "    </tr>\n",
       "    <tr>\n",
       "      <th>3</th>\n",
       "      <td>2016-06-10</td>\n",
       "      <td>62.689999</td>\n",
       "      <td>62.720001</td>\n",
       "      <td>61.320000</td>\n",
       "      <td>61.430000</td>\n",
       "      <td>51.118191</td>\n",
       "      <td>1390028</td>\n",
       "      <td>-2.165952</td>\n",
       "    </tr>\n",
       "    <tr>\n",
       "      <th>4</th>\n",
       "      <td>2016-06-13</td>\n",
       "      <td>60.799999</td>\n",
       "      <td>61.330002</td>\n",
       "      <td>60.470001</td>\n",
       "      <td>60.470001</td>\n",
       "      <td>50.319336</td>\n",
       "      <td>1314460</td>\n",
       "      <td>-1.562753</td>\n",
       "    </tr>\n",
       "    <tr>\n",
       "      <th>5</th>\n",
       "      <td>2016-06-14</td>\n",
       "      <td>60.900002</td>\n",
       "      <td>61.290001</td>\n",
       "      <td>59.939999</td>\n",
       "      <td>60.000000</td>\n",
       "      <td>49.928238</td>\n",
       "      <td>2926789</td>\n",
       "      <td>-0.777247</td>\n",
       "    </tr>\n",
       "    <tr>\n",
       "      <th>...</th>\n",
       "      <td>...</td>\n",
       "      <td>...</td>\n",
       "      <td>...</td>\n",
       "      <td>...</td>\n",
       "      <td>...</td>\n",
       "      <td>...</td>\n",
       "      <td>...</td>\n",
       "      <td>...</td>\n",
       "    </tr>\n",
       "    <tr>\n",
       "      <th>1274</th>\n",
       "      <td>2021-05-31</td>\n",
       "      <td>58.459999</td>\n",
       "      <td>59.389999</td>\n",
       "      <td>58.240002</td>\n",
       "      <td>58.299999</td>\n",
       "      <td>58.299999</td>\n",
       "      <td>1091801</td>\n",
       "      <td>-0.273691</td>\n",
       "    </tr>\n",
       "    <tr>\n",
       "      <th>1275</th>\n",
       "      <td>2021-06-01</td>\n",
       "      <td>58.230000</td>\n",
       "      <td>58.599998</td>\n",
       "      <td>57.950001</td>\n",
       "      <td>58.220001</td>\n",
       "      <td>58.220001</td>\n",
       "      <td>1017600</td>\n",
       "      <td>-0.137218</td>\n",
       "    </tr>\n",
       "    <tr>\n",
       "      <th>1276</th>\n",
       "      <td>2021-06-02</td>\n",
       "      <td>58.139999</td>\n",
       "      <td>58.689999</td>\n",
       "      <td>58.020000</td>\n",
       "      <td>58.360001</td>\n",
       "      <td>58.360001</td>\n",
       "      <td>1051791</td>\n",
       "      <td>0.240467</td>\n",
       "    </tr>\n",
       "    <tr>\n",
       "      <th>1277</th>\n",
       "      <td>2021-06-03</td>\n",
       "      <td>58.439999</td>\n",
       "      <td>58.610001</td>\n",
       "      <td>57.939999</td>\n",
       "      <td>58.470001</td>\n",
       "      <td>58.470001</td>\n",
       "      <td>915915</td>\n",
       "      <td>0.188485</td>\n",
       "    </tr>\n",
       "    <tr>\n",
       "      <th>1278</th>\n",
       "      <td>2021-06-04</td>\n",
       "      <td>58.700001</td>\n",
       "      <td>58.860001</td>\n",
       "      <td>58.500000</td>\n",
       "      <td>58.860001</td>\n",
       "      <td>58.860001</td>\n",
       "      <td>782075</td>\n",
       "      <td>0.667009</td>\n",
       "    </tr>\n",
       "  </tbody>\n",
       "</table>\n",
       "<p>1278 rows × 8 columns</p>\n",
       "</div>"
      ],
      "text/plain": [
       "            Date       Open       High  ...  Adj Close   Volume    Return\n",
       "1     2016-06-08  63.090000  63.389999  ...  52.532829   853089 -0.315808\n",
       "2     2016-06-09  63.070000  63.169998  ...  52.249901   768976 -0.538571\n",
       "3     2016-06-10  62.689999  62.720001  ...  51.118191  1390028 -2.165952\n",
       "4     2016-06-13  60.799999  61.330002  ...  50.319336  1314460 -1.562753\n",
       "5     2016-06-14  60.900002  61.290001  ...  49.928238  2926789 -0.777247\n",
       "...          ...        ...        ...  ...        ...      ...       ...\n",
       "1274  2021-05-31  58.459999  59.389999  ...  58.299999  1091801 -0.273691\n",
       "1275  2021-06-01  58.230000  58.599998  ...  58.220001  1017600 -0.137218\n",
       "1276  2021-06-02  58.139999  58.689999  ...  58.360001  1051791  0.240467\n",
       "1277  2021-06-03  58.439999  58.610001  ...  58.470001   915915  0.188485\n",
       "1278  2021-06-04  58.700001  58.860001  ...  58.860001   782075  0.667009\n",
       "\n",
       "[1278 rows x 8 columns]"
      ]
     },
     "execution_count": 46,
     "metadata": {
      "tags": []
     },
     "output_type": "execute_result"
    }
   ],
   "source": [
    "df"
   ]
  },
  {
   "cell_type": "code",
   "execution_count": 42,
   "metadata": {
    "id": "2yOxx56vL07v"
   },
   "outputs": [],
   "source": [
    "#Construct a Pandas series for the rolling_predictions.\n",
    "rolling_predictions = pd.Series(rolling_predictions, index=df['Return'].index[-test_size:])\n"
   ]
  },
  {
   "cell_type": "code",
   "execution_count": 43,
   "metadata": {
    "colab": {
     "base_uri": "https://localhost:8080/",
     "height": 281
    },
    "id": "LtsMiO8zNRiE",
    "outputId": "54549df7-6d21-48e4-fe1c-97d9ab325642"
   },
   "outputs": [
    {
     "data": {
      "image/png": "[encoded data removed]",
      "text/plain": [
       "<Figure size 720x288 with 1 Axes>"
      ]
     },
     "metadata": {
      "needs_background": "light",
      "tags": []
     },
     "output_type": "display_data"
    }
   ],
   "source": [
    "# Création un graphique pour afficher la prédiction continue de la volatilité sur les 365 derniers jours.\n",
    "plt.figure(figsize=(10,4))\n",
    "plt.plot(rolling_predictions)\n",
    "plt.title('Rolling Prediction')\n",
    "plt.show()"
   ]
  },
  {
   "cell_type": "markdown",
   "metadata": {
    "id": "Uppo8ZFSNcuw"
   },
   "source": [
    "Nous y sommes presque. Le graphique linéaire ci-dessus nous montre la prédiction continue de la volatilité au cours des 1279 derniers jours. Nous pouvons observer qu'une volatilité prédite très élevée a eu lieu autour de **...** .\n",
    "Afin d'avoir une meilleure idée de la précision de notre modèle GARCH dans la prédiction de la volatilité, créons un autre sous-graphe dayly return. (valeurs réelles) et superposons-le au graphique linéaire de prédiction continue."
   ]
  },
  {
   "cell_type": "code",
   "execution_count": 45,
   "metadata": {
    "colab": {
     "base_uri": "https://localhost:8080/",
     "height": 281
    },
    "id": "8QBj9wEaOzRm",
    "outputId": "b1c07439-c7e0-455c-ad5c-da2e611674f8"
   },
   "outputs": [
    {
     "data": {
      "image/png": "[encoded data removed]",
      "text/plain": [
       "<Figure size 864x288 with 1 Axes>"
      ]
     },
     "metadata": {
      "needs_background": "light",
      "tags": []
     },
     "output_type": "display_data"
    }
   ],
   "source": [
    "# Create a line plot to show the daily return only for the last 365 days (stock_data[‘Return’][-365:]).\n",
    "plt.figure(figsize=(12,4))\n",
    "plt.plot(df['Return'][-test_size:])\n",
    "\n",
    "#Create another line plot for the rolling predicted volatility\n",
    "plt.plot(rolling_predictions)\n",
    "plt.title('Volatility Prediction - Rolling Forecast')\n",
    "plt.legend(['True Daily Returns', 'Predicted Volatility'])\n",
    "plt.show()"
   ]
  },
  {
   "cell_type": "markdown",
   "metadata": {
    "id": "B1QPnIp6PuFX"
   },
   "source": [
    "À partir des sous-tracés ci-dessus, nous pouvons observer que notre volatilité prédite est généralement en ligne avec les rendements quotidiens (valeurs réelles). Cela signifie que notre modèle GARCH est performant ici. Dans la zone où la volatilité prédite est élevée (par exemple, mars-avril 2020), les rendements quotidiens sont également élevés. Nous pouvons voir que la volatilité prédite au début de 2021 est généralement moins fluctuante et qu'elle présente donc un risque relativement plus faible pendant cette période."
   ]
  },
  {
   "cell_type": "markdown",
   "metadata": {
    "id": "5ZV9fgyuQJdX"
   },
   "source": [
    "\n",
    "**CONCLUSION**\n",
    "Nous avons suivi le processus de construction d'un modèle GARCH pour prédire la volatilité des actions. Vous pouvez essayer avec différents tickers et observer les résultats. Il est important de noter que la volatilité prédite ne fait que nous montrer la situation actuelle du marché pour nous aider dans notre plan d'investissement. En réalité, même une forte volatilité du marché peut également générer de grands profits lorsqu'elle est correctement exploitée. Une stratégie d'investissement supplémentaire basée sur l'analyse fondamentale et/ou l'analyse technique sera nécessaire pour consolider le plan d'investissement."
   ]
  },
  {
   "cell_type": "code",
   "execution_count": null,
   "metadata": {
    "id": "qt09_D5CQOH0"
   },
   "outputs": [],
   "source": []
  },
  {
   "cell_type": "code",
   "execution_count": null,
   "metadata": {
    "id": "QSfs22UaCqgQ"
   },
   "outputs": [],
   "source": []
  }
 ],
 "metadata": {
  "colab": {
   "name": "ARCH_Model.ipynb",
   "provenance": []
  },
  "kernelspec": {
   "display_name": "Python 3",
   "language": "python",
   "name": "python3"
  },
  "language_info": {
   "codemirror_mode": {
    "name": "ipython",
    "version": 3
   },
   "file_extension": ".py",
   "mimetype": "text/x-python",
   "name": "python",
   "nbconvert_exporter": "python",
   "pygments_lexer": "ipython3",
   "version": "3.8.6"
  },
  "latex_envs": {
   "LaTeX_envs_menu_present": true,
   "autoclose": false,
   "autocomplete": true,
   "bibliofile": "biblio.bib",
   "cite_by": "apalike",
   "current_citInitial": 1,
   "eqLabelWithNumbers": true,
   "eqNumInitial": 1,
   "hotkeys": {
    "equation": "Ctrl-E",
    "itemize": "Ctrl-I"
   },
   "labels_anchors": false,
   "latex_user_defs": false,
   "report_style_numbering": false,
   "user_envs_cfg": false
  },
  "toc": {
   "base_numbering": 1,
   "nav_menu": {},
   "number_sections": true,
   "sideBar": true,
   "skip_h1_title": false,
   "title_cell": "Table of Contents",
   "title_sidebar": "Contents",
   "toc_cell": false,
   "toc_position": {},
   "toc_section_display": true,
   "toc_window_display": false
  }
 },
 "nbformat": 4,
 "nbformat_minor": 1
}
