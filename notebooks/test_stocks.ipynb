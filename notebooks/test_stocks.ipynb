{
 "cells": [
  {
   "cell_type": "code",
   "execution_count": 1,
   "id": "e00d11d8",
   "metadata": {},
   "outputs": [],
   "source": [
    "import pandas as pd \n",
    "import numpy as np"
   ]
  },
  {
   "cell_type": "code",
   "execution_count": 2,
   "id": "f77d3eaf",
   "metadata": {},
   "outputs": [],
   "source": [
    "company_list = [\n",
    "    'asml', 'lvmh', 'sap', 'linde', 'siemens', 'total', 'sanofi', 'allianz',\n",
    "    'loreal', 'schneider', 'iberdrola', 'enel', 'air-liquide', 'basf', 'bayer',\n",
    "    'adidas', 'airbus', 'deutsche-telecom', 'daimler', 'bnp',\n",
    "    'anheuser-busch', 'vinci', 'banco-santander', 'philips', 'kering',\n",
    "    'deutsche-post', 'axa', 'safran', 'danone', 'essilor', 'intensa',\n",
    "    'munchener', 'pernod', 'vonovia', 'vw', 'ing', 'crh', 'industria-diseno',\n",
    "    'kone', 'deutsche-borse', 'ahold', 'flutter', 'amadeus', 'engie', 'bmw',\n",
    "    'vivendi', 'eni', 'nokia']"
   ]
  },
  {
   "cell_type": "code",
   "execution_count": 3,
   "id": "2f8aa7c6",
   "metadata": {},
   "outputs": [],
   "source": [
    "from numpy.random import default_rng\n",
    "rng = default_rng()\n",
    "day_one = rng.standard_normal(49)\n",
    "day_two = rng.standard_normal(49)\n",
    "day_three = rng.standard_normal(49)\n",
    "day_four = rng.standard_normal(49)\n",
    "day_five = rng.standard_normal(49)\n",
    "day_six = rng.standard_normal(49)\n",
    "day_seven = rng.standard_normal(49)\n",
    "day_eight = rng.standard_normal(49)\n",
    "day_eight = rng.standard_normal(49)\n",
    "day_eight = rng.standard_normal(49)"
   ]
  },
  {
   "cell_type": "code",
   "execution_count": 4,
   "id": "38bb3420",
   "metadata": {},
   "outputs": [
    {
     "ename": "ValueError",
     "evalue": "arrays must all be same length",
     "output_type": "error",
     "traceback": [
      "\u001b[0;31m---------------------------------------------------------------------------\u001b[0m",
      "\u001b[0;31mValueError\u001b[0m                                Traceback (most recent call last)",
      "\u001b[0;32m<ipython-input-4-bc926ea80b5b>\u001b[0m in \u001b[0;36m<module>\u001b[0;34m\u001b[0m\n\u001b[1;32m      1\u001b[0m \u001b[0;31m# we create the dataframe of predicted returns for all stocks in the index\u001b[0m\u001b[0;34m\u001b[0m\u001b[0;34m\u001b[0m\u001b[0;34m\u001b[0m\u001b[0m\n\u001b[0;32m----> 2\u001b[0;31m predictive_returns = pd.DataFrame({\n\u001b[0m\u001b[1;32m      3\u001b[0m     \u001b[0;34m'stocks'\u001b[0m \u001b[0;34m:\u001b[0m \u001b[0mcompany_list\u001b[0m\u001b[0;34m,\u001b[0m\u001b[0;34m\u001b[0m\u001b[0;34m\u001b[0m\u001b[0m\n\u001b[1;32m      4\u001b[0m     \u001b[0;34m'day_one'\u001b[0m \u001b[0;34m:\u001b[0m \u001b[0mday_one\u001b[0m\u001b[0;34m,\u001b[0m\u001b[0;34m\u001b[0m\u001b[0;34m\u001b[0m\u001b[0m\n\u001b[1;32m      5\u001b[0m     \u001b[0;34m'day_two'\u001b[0m \u001b[0;34m:\u001b[0m \u001b[0mday_two\u001b[0m\u001b[0;34m,\u001b[0m\u001b[0;34m\u001b[0m\u001b[0;34m\u001b[0m\u001b[0m\n",
      "\u001b[0;32m~/.pyenv/versions/3.8.6/envs/stock_prediction/lib/python3.8/site-packages/pandas/core/frame.py\u001b[0m in \u001b[0;36m__init__\u001b[0;34m(self, data, index, columns, dtype, copy)\u001b[0m\n\u001b[1;32m    527\u001b[0m \u001b[0;34m\u001b[0m\u001b[0m\n\u001b[1;32m    528\u001b[0m         \u001b[0;32melif\u001b[0m \u001b[0misinstance\u001b[0m\u001b[0;34m(\u001b[0m\u001b[0mdata\u001b[0m\u001b[0;34m,\u001b[0m \u001b[0mdict\u001b[0m\u001b[0;34m)\u001b[0m\u001b[0;34m:\u001b[0m\u001b[0;34m\u001b[0m\u001b[0;34m\u001b[0m\u001b[0m\n\u001b[0;32m--> 529\u001b[0;31m             \u001b[0mmgr\u001b[0m \u001b[0;34m=\u001b[0m \u001b[0minit_dict\u001b[0m\u001b[0;34m(\u001b[0m\u001b[0mdata\u001b[0m\u001b[0;34m,\u001b[0m \u001b[0mindex\u001b[0m\u001b[0;34m,\u001b[0m \u001b[0mcolumns\u001b[0m\u001b[0;34m,\u001b[0m \u001b[0mdtype\u001b[0m\u001b[0;34m=\u001b[0m\u001b[0mdtype\u001b[0m\u001b[0;34m)\u001b[0m\u001b[0;34m\u001b[0m\u001b[0;34m\u001b[0m\u001b[0m\n\u001b[0m\u001b[1;32m    530\u001b[0m         \u001b[0;32melif\u001b[0m \u001b[0misinstance\u001b[0m\u001b[0;34m(\u001b[0m\u001b[0mdata\u001b[0m\u001b[0;34m,\u001b[0m \u001b[0mma\u001b[0m\u001b[0;34m.\u001b[0m\u001b[0mMaskedArray\u001b[0m\u001b[0;34m)\u001b[0m\u001b[0;34m:\u001b[0m\u001b[0;34m\u001b[0m\u001b[0;34m\u001b[0m\u001b[0m\n\u001b[1;32m    531\u001b[0m             \u001b[0;32mimport\u001b[0m \u001b[0mnumpy\u001b[0m\u001b[0;34m.\u001b[0m\u001b[0mma\u001b[0m\u001b[0;34m.\u001b[0m\u001b[0mmrecords\u001b[0m \u001b[0;32mas\u001b[0m \u001b[0mmrecords\u001b[0m\u001b[0;34m\u001b[0m\u001b[0;34m\u001b[0m\u001b[0m\n",
      "\u001b[0;32m~/.pyenv/versions/3.8.6/envs/stock_prediction/lib/python3.8/site-packages/pandas/core/internals/construction.py\u001b[0m in \u001b[0;36minit_dict\u001b[0;34m(data, index, columns, dtype)\u001b[0m\n\u001b[1;32m    285\u001b[0m             \u001b[0marr\u001b[0m \u001b[0;32mif\u001b[0m \u001b[0;32mnot\u001b[0m \u001b[0mis_datetime64tz_dtype\u001b[0m\u001b[0;34m(\u001b[0m\u001b[0marr\u001b[0m\u001b[0;34m)\u001b[0m \u001b[0;32melse\u001b[0m \u001b[0marr\u001b[0m\u001b[0;34m.\u001b[0m\u001b[0mcopy\u001b[0m\u001b[0;34m(\u001b[0m\u001b[0;34m)\u001b[0m \u001b[0;32mfor\u001b[0m \u001b[0marr\u001b[0m \u001b[0;32min\u001b[0m \u001b[0marrays\u001b[0m\u001b[0;34m\u001b[0m\u001b[0;34m\u001b[0m\u001b[0m\n\u001b[1;32m    286\u001b[0m         ]\n\u001b[0;32m--> 287\u001b[0;31m     \u001b[0;32mreturn\u001b[0m \u001b[0marrays_to_mgr\u001b[0m\u001b[0;34m(\u001b[0m\u001b[0marrays\u001b[0m\u001b[0;34m,\u001b[0m \u001b[0mdata_names\u001b[0m\u001b[0;34m,\u001b[0m \u001b[0mindex\u001b[0m\u001b[0;34m,\u001b[0m \u001b[0mcolumns\u001b[0m\u001b[0;34m,\u001b[0m \u001b[0mdtype\u001b[0m\u001b[0;34m=\u001b[0m\u001b[0mdtype\u001b[0m\u001b[0;34m)\u001b[0m\u001b[0;34m\u001b[0m\u001b[0;34m\u001b[0m\u001b[0m\n\u001b[0m\u001b[1;32m    288\u001b[0m \u001b[0;34m\u001b[0m\u001b[0m\n\u001b[1;32m    289\u001b[0m \u001b[0;34m\u001b[0m\u001b[0m\n",
      "\u001b[0;32m~/.pyenv/versions/3.8.6/envs/stock_prediction/lib/python3.8/site-packages/pandas/core/internals/construction.py\u001b[0m in \u001b[0;36marrays_to_mgr\u001b[0;34m(arrays, arr_names, index, columns, dtype, verify_integrity)\u001b[0m\n\u001b[1;32m     78\u001b[0m         \u001b[0;31m# figure out the index, if necessary\u001b[0m\u001b[0;34m\u001b[0m\u001b[0;34m\u001b[0m\u001b[0;34m\u001b[0m\u001b[0m\n\u001b[1;32m     79\u001b[0m         \u001b[0;32mif\u001b[0m \u001b[0mindex\u001b[0m \u001b[0;32mis\u001b[0m \u001b[0;32mNone\u001b[0m\u001b[0;34m:\u001b[0m\u001b[0;34m\u001b[0m\u001b[0;34m\u001b[0m\u001b[0m\n\u001b[0;32m---> 80\u001b[0;31m             \u001b[0mindex\u001b[0m \u001b[0;34m=\u001b[0m \u001b[0mextract_index\u001b[0m\u001b[0;34m(\u001b[0m\u001b[0marrays\u001b[0m\u001b[0;34m)\u001b[0m\u001b[0;34m\u001b[0m\u001b[0;34m\u001b[0m\u001b[0m\n\u001b[0m\u001b[1;32m     81\u001b[0m         \u001b[0;32melse\u001b[0m\u001b[0;34m:\u001b[0m\u001b[0;34m\u001b[0m\u001b[0;34m\u001b[0m\u001b[0m\n\u001b[1;32m     82\u001b[0m             \u001b[0mindex\u001b[0m \u001b[0;34m=\u001b[0m \u001b[0mensure_index\u001b[0m\u001b[0;34m(\u001b[0m\u001b[0mindex\u001b[0m\u001b[0;34m)\u001b[0m\u001b[0;34m\u001b[0m\u001b[0;34m\u001b[0m\u001b[0m\n",
      "\u001b[0;32m~/.pyenv/versions/3.8.6/envs/stock_prediction/lib/python3.8/site-packages/pandas/core/internals/construction.py\u001b[0m in \u001b[0;36mextract_index\u001b[0;34m(data)\u001b[0m\n\u001b[1;32m    399\u001b[0m             \u001b[0mlengths\u001b[0m \u001b[0;34m=\u001b[0m \u001b[0mlist\u001b[0m\u001b[0;34m(\u001b[0m\u001b[0mset\u001b[0m\u001b[0;34m(\u001b[0m\u001b[0mraw_lengths\u001b[0m\u001b[0;34m)\u001b[0m\u001b[0;34m)\u001b[0m\u001b[0;34m\u001b[0m\u001b[0;34m\u001b[0m\u001b[0m\n\u001b[1;32m    400\u001b[0m             \u001b[0;32mif\u001b[0m \u001b[0mlen\u001b[0m\u001b[0;34m(\u001b[0m\u001b[0mlengths\u001b[0m\u001b[0;34m)\u001b[0m \u001b[0;34m>\u001b[0m \u001b[0;36m1\u001b[0m\u001b[0;34m:\u001b[0m\u001b[0;34m\u001b[0m\u001b[0;34m\u001b[0m\u001b[0m\n\u001b[0;32m--> 401\u001b[0;31m                 \u001b[0;32mraise\u001b[0m \u001b[0mValueError\u001b[0m\u001b[0;34m(\u001b[0m\u001b[0;34m\"arrays must all be same length\"\u001b[0m\u001b[0;34m)\u001b[0m\u001b[0;34m\u001b[0m\u001b[0;34m\u001b[0m\u001b[0m\n\u001b[0m\u001b[1;32m    402\u001b[0m \u001b[0;34m\u001b[0m\u001b[0m\n\u001b[1;32m    403\u001b[0m             \u001b[0;32mif\u001b[0m \u001b[0mhave_dicts\u001b[0m\u001b[0;34m:\u001b[0m\u001b[0;34m\u001b[0m\u001b[0;34m\u001b[0m\u001b[0m\n",
      "\u001b[0;31mValueError\u001b[0m: arrays must all be same length"
     ]
    }
   ],
   "source": [
    "# we create the dataframe of predicted returns for all stocks in the index\n",
    "predictive_returns = pd.DataFrame({\n",
    "    'stocks' : company_list,\n",
    "    'day_one' : day_one,\n",
    "    'day_two' : day_two,\n",
    "    'day_three' : day_three,\n",
    "    'day_four' : day_four,\n",
    "    'day_five' : day_five,\n",
    "    'day_six' : day_six,\n",
    "    'day_seven' : day_seven,\n",
    "    'day_eight' : day_eight\n",
    "})"
   ]
  },
  {
   "cell_type": "code",
   "execution_count": null,
   "id": "d44a1b6e",
   "metadata": {
    "scrolled": true
   },
   "outputs": [],
   "source": [
    "# the returns are not on the same size os us , this should be expressed in %, we have the value /100\n",
    "# we will need to adapt the code with our values or * 100 \n",
    "predictive_returns"
   ]
  },
  {
   "cell_type": "code",
   "execution_count": null,
   "id": "1ad21594",
   "metadata": {},
   "outputs": [],
   "source": [
    "predictive_returns.columns[1:]"
   ]
  },
  {
   "cell_type": "code",
   "execution_count": null,
   "id": "78a2fe55",
   "metadata": {
    "scrolled": true
   },
   "outputs": [],
   "source": [
    "# analysis on day one \n",
    "\n",
    "# first we need to select the returns that are the higher in absolute values \n",
    "day_one_df = predictive_returns[['stocks', 'day_one']].copy()\n",
    "day_one_df"
   ]
  },
  {
   "cell_type": "code",
   "execution_count": null,
   "id": "546e78f7",
   "metadata": {
    "scrolled": true
   },
   "outputs": [],
   "source": [
    "# we need to have the absolute values \n",
    "day_one_df['abs_returns'] = day_one_df['day_one'].abs()\n",
    "day_one_df"
   ]
  },
  {
   "cell_type": "code",
   "execution_count": null,
   "id": "0f85acf9",
   "metadata": {},
   "outputs": [],
   "source": [
    "# we select the 10 highest absolute values\n",
    "\n",
    "# to do so, we need the 10 highest absolute returns \n",
    "ten_best_abs = day_one_df.nlargest(10, 'abs_returns')\n",
    "ten_best_abs"
   ]
  },
  {
   "cell_type": "code",
   "execution_count": null,
   "id": "dfe3b15f",
   "metadata": {},
   "outputs": [],
   "source": [
    "# now we have our selection of stocks "
   ]
  },
  {
   "cell_type": "code",
   "execution_count": null,
   "id": "1ac5bc1c",
   "metadata": {},
   "outputs": [],
   "source": [
    "# We will have the choice doing equiponderation 10% of ptf for each stock\n",
    "# or make a strategic ponderation related to the predicted returns \n",
    "# we store that pnoderation in case we need it \n",
    "sum_returns = ten_best_abs['abs_returns'].sum()\n",
    "sum_returns"
   ]
  },
  {
   "cell_type": "code",
   "execution_count": null,
   "id": "b08a3111",
   "metadata": {},
   "outputs": [],
   "source": [
    "# now create a new colum with the ponderation \n",
    "ten_best_abs['strategic_ponderation'] = ten_best_abs['abs_returns'] / sum_returns"
   ]
  },
  {
   "cell_type": "code",
   "execution_count": null,
   "id": "5660f84d",
   "metadata": {},
   "outputs": [],
   "source": [
    "ten_best_abs"
   ]
  },
  {
   "cell_type": "code",
   "execution_count": null,
   "id": "104d1801",
   "metadata": {},
   "outputs": [],
   "source": [
    "# we will use that part of the notebook and package it to make the same with the true values \n",
    "# we only keep the ponderation to 10% each "
   ]
  },
  {
   "cell_type": "code",
   "execution_count": null,
   "id": "57312af2",
   "metadata": {},
   "outputs": [],
   "source": [
    "# package that part to be able to make it for each day "
   ]
  },
  {
   "cell_type": "code",
   "execution_count": null,
   "id": "225aa8d1",
   "metadata": {},
   "outputs": [],
   "source": [
    "# create the part where we retrieve the prices of yesterday + today + all days of the app period ? \n",
    "# to be able to simulate BUY / SELL \n",
    "# and actualize the cash day by day "
   ]
  },
  {
   "cell_type": "code",
   "execution_count": null,
   "id": "0cde543c",
   "metadata": {},
   "outputs": [],
   "source": [
    "# \"True simulation\" with the best ptf found, \n",
    "# create a ptf_true\n",
    "# compute a cash variable for the 'True simulation'"
   ]
  },
  {
   "cell_type": "code",
   "execution_count": null,
   "id": "ec933410",
   "metadata": {},
   "outputs": [],
   "source": [
    "# FUNCTIONS\n",
    "# - best ptf pred # True\n",
    "# - retrive Close prices for day and yesterday for the stocks in ptf_pred & ptf_True - from arima ? dict to store\n",
    "# - function BUY / SELL / actualize cash\n",
    "# - function perf_pred day / function perf true day \n"
   ]
  },
  {
   "cell_type": "code",
   "execution_count": null,
   "id": "5a8acda1",
   "metadata": {},
   "outputs": [],
   "source": [
    "dict_one ={}\n",
    "dict_stock ={}\n",
    "dict_date = {}"
   ]
  },
  {
   "cell_type": "code",
   "execution_count": null,
   "id": "f7aad571",
   "metadata": {},
   "outputs": [],
   "source": [
    "dict_date['2020-03-12'] = 2452\n",
    "dict_stock['asml'] = dict_date"
   ]
  },
  {
   "cell_type": "code",
   "execution_count": null,
   "id": "ed75124b",
   "metadata": {},
   "outputs": [],
   "source": [
    "dict_stock['asml']['2020-03-12']"
   ]
  },
  {
   "cell_type": "code",
   "execution_count": null,
   "id": "2a21bb21",
   "metadata": {},
   "outputs": [],
   "source": []
  },
  {
   "cell_type": "code",
   "execution_count": null,
   "id": "3d1a3314",
   "metadata": {},
   "outputs": [],
   "source": []
  }
 ],
 "metadata": {
  "kernelspec": {
   "display_name": "Python 3",
   "language": "python",
   "name": "python3"
  },
  "language_info": {
   "codemirror_mode": {
    "name": "ipython",
    "version": 3
   },
   "file_extension": ".py",
   "mimetype": "text/x-python",
   "name": "python",
   "nbconvert_exporter": "python",
   "pygments_lexer": "ipython3",
   "version": "3.8.6"
  },
  "latex_envs": {
   "LaTeX_envs_menu_present": true,
   "autoclose": false,
   "autocomplete": true,
   "bibliofile": "biblio.bib",
   "cite_by": "apalike",
   "current_citInitial": 1,
   "eqLabelWithNumbers": true,
   "eqNumInitial": 1,
   "hotkeys": {
    "equation": "Ctrl-E",
    "itemize": "Ctrl-I"
   },
   "labels_anchors": false,
   "latex_user_defs": false,
   "report_style_numbering": false,
   "user_envs_cfg": false
  },
  "toc": {
   "base_numbering": 1,
   "nav_menu": {},
   "number_sections": true,
   "sideBar": true,
   "skip_h1_title": false,
   "title_cell": "Table of Contents",
   "title_sidebar": "Contents",
   "toc_cell": false,
   "toc_position": {},
   "toc_section_display": true,
   "toc_window_display": false
  }
 },
 "nbformat": 4,
 "nbformat_minor": 5
}
