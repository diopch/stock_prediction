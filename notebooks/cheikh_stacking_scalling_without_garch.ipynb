{
  "nbformat": 4,
  "nbformat_minor": 5,
  "metadata": {
    "colab": {
      "name": "cheikh_stacking_scalling_without_garch.ipynb",
      "provenance": [],
      "collapsed_sections": [
        "d68dc098",
        "c9fd8f69",
        "b0780ae2",
        "60ccfa53",
        "75f5d3b1",
        "8c9840b6",
        "870fb6c2",
        "b7d7845c",
        "de5f9537",
        "c3e54d1c",
        "a017cd12",
        "cb529078"
      ]
    },
    "kernelspec": {
      "display_name": "Python 3",
      "language": "python",
      "name": "python3"
    },
    "language_info": {
      "codemirror_mode": {
        "name": "ipython",
        "version": 3
      },
      "file_extension": ".py",
      "mimetype": "text/x-python",
      "name": "python",
      "nbconvert_exporter": "python",
      "pygments_lexer": "ipython3",
      "version": "3.8.6"
    },
    "latex_envs": {
      "LaTeX_envs_menu_present": true,
      "autoclose": false,
      "autocomplete": true,
      "bibliofile": "biblio.bib",
      "cite_by": "apalike",
      "current_citInitial": 1,
      "eqLabelWithNumbers": true,
      "eqNumInitial": 1,
      "hotkeys": {
        "equation": "Ctrl-E",
        "itemize": "Ctrl-I"
      },
      "labels_anchors": false,
      "latex_user_defs": false,
      "report_style_numbering": false,
      "user_envs_cfg": false
    },
    "toc": {
      "base_numbering": 1,
      "nav_menu": {},
      "number_sections": true,
      "sideBar": true,
      "skip_h1_title": false,
      "title_cell": "Table of Contents",
      "title_sidebar": "Contents",
      "toc_cell": false,
      "toc_position": {},
      "toc_section_display": true,
      "toc_window_display": false
    }
  },
  "cells": [
    {
      "cell_type": "markdown",
      "metadata": {
        "id": "d68dc098"
      },
      "source": [
        "# Importation"
      ],
      "id": "d68dc098"
    },
    {
      "cell_type": "code",
      "metadata": {
        "id": "862d70b8"
      },
      "source": [
        "from sklearn.metrics import make_scorer,SCORERS,mean_absolute_error\n",
        "from sklearn.preprocessing import MinMaxScaler, StandardScaler, RobustScaler\n",
        "from sklearn.pipeline import Pipeline, make_pipeline\n",
        "from sklearn.model_selection import cross_val_score\n",
        "from sklearn.neighbors import KNeighborsRegressor\n",
        "from sklearn.linear_model import Ridge, Lasso, LinearRegression,SGDRegressor\n",
        "from sklearn.model_selection import RandomizedSearchCV\n",
        "from sklearn.svm import SVR\n",
        "from sklearn.model_selection import GridSearchCV, RandomizedSearchCV\n",
        "from sklearn.ensemble import AdaBoostRegressor\n",
        "from sklearn.tree import DecisionTreeRegressor\n",
        "from sklearn.ensemble import VotingRegressor\n",
        "from sklearn.ensemble import GradientBoostingRegressor\n",
        "from sklearn.ensemble import StackingRegressor\n",
        "from sklearn.ensemble import RandomForestRegressor\n",
        "from scipy import stats\n",
        "import pandas as pd\n",
        "import numpy as np"
      ],
      "id": "862d70b8",
      "execution_count": 1,
      "outputs": []
    },
    {
      "cell_type": "markdown",
      "metadata": {
        "id": "c9fd8f69"
      },
      "source": [
        "# Load dataframe"
      ],
      "id": "c9fd8f69"
    },
    {
      "cell_type": "code",
      "metadata": {
        "colab": {
          "base_uri": "https://localhost:8080/",
          "height": 322
        },
        "id": "fc4df374",
        "outputId": "3752e201-bc6b-4ead-cc43-68faba5fa17c"
      },
      "source": [
        "data = pd.read_csv(\"predictions_vinci\")\n",
        "data.head()"
      ],
      "id": "fc4df374",
      "execution_count": 2,
      "outputs": [
        {
          "output_type": "execute_result",
          "data": {
            "text/html": [
              "<div>\n",
              "<style scoped>\n",
              "    .dataframe tbody tr th:only-of-type {\n",
              "        vertical-align: middle;\n",
              "    }\n",
              "\n",
              "    .dataframe tbody tr th {\n",
              "        vertical-align: top;\n",
              "    }\n",
              "\n",
              "    .dataframe thead th {\n",
              "        text-align: right;\n",
              "    }\n",
              "</style>\n",
              "<table border=\"1\" class=\"dataframe\">\n",
              "  <thead>\n",
              "    <tr style=\"text-align: right;\">\n",
              "      <th></th>\n",
              "      <th>Unnamed: 0</th>\n",
              "      <th>yesterday</th>\n",
              "      <th>prediction</th>\n",
              "      <th>conf_low</th>\n",
              "      <th>conf_high</th>\n",
              "      <th>true</th>\n",
              "      <th>conf_std</th>\n",
              "      <th>Date</th>\n",
              "      <th>perf_pred</th>\n",
              "      <th>perf_true</th>\n",
              "      <th>perf_low</th>\n",
              "      <th>perf_high</th>\n",
              "      <th>garch_pred</th>\n",
              "      <th>vol_variation</th>\n",
              "      <th>prediction_cnn</th>\n",
              "    </tr>\n",
              "  </thead>\n",
              "  <tbody>\n",
              "    <tr>\n",
              "      <th>0</th>\n",
              "      <td>0</td>\n",
              "      <td>101.311661</td>\n",
              "      <td>100.229275</td>\n",
              "      <td>98.853678</td>\n",
              "      <td>101.604872</td>\n",
              "      <td>100.998656</td>\n",
              "      <td>0.701848</td>\n",
              "      <td>2016-09-29</td>\n",
              "      <td>-0.010684</td>\n",
              "      <td>-0.003090</td>\n",
              "      <td>-0.024262</td>\n",
              "      <td>0.002894</td>\n",
              "      <td>21.300782</td>\n",
              "      <td>-0.004677</td>\n",
              "      <td>0.000385</td>\n",
              "    </tr>\n",
              "    <tr>\n",
              "      <th>1</th>\n",
              "      <td>1</td>\n",
              "      <td>100.998656</td>\n",
              "      <td>102.686427</td>\n",
              "      <td>101.292483</td>\n",
              "      <td>104.080370</td>\n",
              "      <td>101.535259</td>\n",
              "      <td>0.711209</td>\n",
              "      <td>2016-09-30</td>\n",
              "      <td>0.016711</td>\n",
              "      <td>0.005313</td>\n",
              "      <td>0.002909</td>\n",
              "      <td>0.030512</td>\n",
              "      <td>21.186977</td>\n",
              "      <td>-0.005343</td>\n",
              "      <td>0.000222</td>\n",
              "    </tr>\n",
              "    <tr>\n",
              "      <th>2</th>\n",
              "      <td>2</td>\n",
              "      <td>101.535259</td>\n",
              "      <td>101.803834</td>\n",
              "      <td>100.377070</td>\n",
              "      <td>103.230599</td>\n",
              "      <td>101.445808</td>\n",
              "      <td>0.727954</td>\n",
              "      <td>2016-10-03</td>\n",
              "      <td>0.002645</td>\n",
              "      <td>-0.000881</td>\n",
              "      <td>-0.011407</td>\n",
              "      <td>0.016697</td>\n",
              "      <td>21.075146</td>\n",
              "      <td>-0.005278</td>\n",
              "      <td>0.000415</td>\n",
              "    </tr>\n",
              "    <tr>\n",
              "      <th>3</th>\n",
              "      <td>3</td>\n",
              "      <td>101.445808</td>\n",
              "      <td>101.608547</td>\n",
              "      <td>100.183373</td>\n",
              "      <td>103.033721</td>\n",
              "      <td>101.997306</td>\n",
              "      <td>0.727143</td>\n",
              "      <td>2016-10-04</td>\n",
              "      <td>0.001604</td>\n",
              "      <td>0.005436</td>\n",
              "      <td>-0.012444</td>\n",
              "      <td>0.015653</td>\n",
              "      <td>21.142841</td>\n",
              "      <td>0.003212</td>\n",
              "      <td>0.000095</td>\n",
              "    </tr>\n",
              "    <tr>\n",
              "      <th>4</th>\n",
              "      <td>4</td>\n",
              "      <td>101.997306</td>\n",
              "      <td>101.715455</td>\n",
              "      <td>100.285934</td>\n",
              "      <td>103.144976</td>\n",
              "      <td>100.298096</td>\n",
              "      <td>0.729361</td>\n",
              "      <td>2016-10-05</td>\n",
              "      <td>-0.002763</td>\n",
              "      <td>-0.016659</td>\n",
              "      <td>-0.016779</td>\n",
              "      <td>0.011252</td>\n",
              "      <td>21.256323</td>\n",
              "      <td>0.005367</td>\n",
              "      <td>0.000280</td>\n",
              "    </tr>\n",
              "  </tbody>\n",
              "</table>\n",
              "</div>"
            ],
            "text/plain": [
              "   Unnamed: 0   yesterday  ...  vol_variation  prediction_cnn\n",
              "0           0  101.311661  ...      -0.004677        0.000385\n",
              "1           1  100.998656  ...      -0.005343        0.000222\n",
              "2           2  101.535259  ...      -0.005278        0.000415\n",
              "3           3  101.445808  ...       0.003212        0.000095\n",
              "4           4  101.997306  ...       0.005367        0.000280\n",
              "\n",
              "[5 rows x 15 columns]"
            ]
          },
          "metadata": {
            "tags": []
          },
          "execution_count": 2
        }
      ]
    },
    {
      "cell_type": "code",
      "metadata": {
        "colab": {
          "base_uri": "https://localhost:8080/"
        },
        "id": "74334a82",
        "outputId": "6ca1e471-db33-4ed7-8a3c-d85062078590"
      },
      "source": [
        "data.shape"
      ],
      "id": "74334a82",
      "execution_count": 3,
      "outputs": [
        {
          "output_type": "execute_result",
          "data": {
            "text/plain": [
              "(1131, 15)"
            ]
          },
          "metadata": {
            "tags": []
          },
          "execution_count": 3
        }
      ]
    },
    {
      "cell_type": "code",
      "metadata": {
        "id": "17a96da4"
      },
      "source": [
        "feature_to_remove = [\"Unnamed: 0\",\"yesterday\",\"prediction\",\"conf_low\",\"conf_high\",\"true\",\"Date\",\"vol_variation\",\"garch_pred\"]"
      ],
      "id": "17a96da4",
      "execution_count": 4,
      "outputs": []
    },
    {
      "cell_type": "code",
      "metadata": {
        "id": "8f9c4a7b"
      },
      "source": [
        "data = data.drop(columns=feature_to_remove).loc[:800]"
      ],
      "id": "8f9c4a7b",
      "execution_count": 5,
      "outputs": []
    },
    {
      "cell_type": "code",
      "metadata": {
        "colab": {
          "base_uri": "https://localhost:8080/",
          "height": 202
        },
        "id": "f1d76978",
        "outputId": "5839eb46-5869-4de8-b72e-4079c9ec567b"
      },
      "source": [
        "data.head()"
      ],
      "id": "f1d76978",
      "execution_count": 6,
      "outputs": [
        {
          "output_type": "execute_result",
          "data": {
            "text/html": [
              "<div>\n",
              "<style scoped>\n",
              "    .dataframe tbody tr th:only-of-type {\n",
              "        vertical-align: middle;\n",
              "    }\n",
              "\n",
              "    .dataframe tbody tr th {\n",
              "        vertical-align: top;\n",
              "    }\n",
              "\n",
              "    .dataframe thead th {\n",
              "        text-align: right;\n",
              "    }\n",
              "</style>\n",
              "<table border=\"1\" class=\"dataframe\">\n",
              "  <thead>\n",
              "    <tr style=\"text-align: right;\">\n",
              "      <th></th>\n",
              "      <th>conf_std</th>\n",
              "      <th>perf_pred</th>\n",
              "      <th>perf_true</th>\n",
              "      <th>perf_low</th>\n",
              "      <th>perf_high</th>\n",
              "      <th>prediction_cnn</th>\n",
              "    </tr>\n",
              "  </thead>\n",
              "  <tbody>\n",
              "    <tr>\n",
              "      <th>0</th>\n",
              "      <td>0.701848</td>\n",
              "      <td>-0.010684</td>\n",
              "      <td>-0.003090</td>\n",
              "      <td>-0.024262</td>\n",
              "      <td>0.002894</td>\n",
              "      <td>0.000385</td>\n",
              "    </tr>\n",
              "    <tr>\n",
              "      <th>1</th>\n",
              "      <td>0.711209</td>\n",
              "      <td>0.016711</td>\n",
              "      <td>0.005313</td>\n",
              "      <td>0.002909</td>\n",
              "      <td>0.030512</td>\n",
              "      <td>0.000222</td>\n",
              "    </tr>\n",
              "    <tr>\n",
              "      <th>2</th>\n",
              "      <td>0.727954</td>\n",
              "      <td>0.002645</td>\n",
              "      <td>-0.000881</td>\n",
              "      <td>-0.011407</td>\n",
              "      <td>0.016697</td>\n",
              "      <td>0.000415</td>\n",
              "    </tr>\n",
              "    <tr>\n",
              "      <th>3</th>\n",
              "      <td>0.727143</td>\n",
              "      <td>0.001604</td>\n",
              "      <td>0.005436</td>\n",
              "      <td>-0.012444</td>\n",
              "      <td>0.015653</td>\n",
              "      <td>0.000095</td>\n",
              "    </tr>\n",
              "    <tr>\n",
              "      <th>4</th>\n",
              "      <td>0.729361</td>\n",
              "      <td>-0.002763</td>\n",
              "      <td>-0.016659</td>\n",
              "      <td>-0.016779</td>\n",
              "      <td>0.011252</td>\n",
              "      <td>0.000280</td>\n",
              "    </tr>\n",
              "  </tbody>\n",
              "</table>\n",
              "</div>"
            ],
            "text/plain": [
              "   conf_std  perf_pred  perf_true  perf_low  perf_high  prediction_cnn\n",
              "0  0.701848  -0.010684  -0.003090 -0.024262   0.002894        0.000385\n",
              "1  0.711209   0.016711   0.005313  0.002909   0.030512        0.000222\n",
              "2  0.727954   0.002645  -0.000881 -0.011407   0.016697        0.000415\n",
              "3  0.727143   0.001604   0.005436 -0.012444   0.015653        0.000095\n",
              "4  0.729361  -0.002763  -0.016659 -0.016779   0.011252        0.000280"
            ]
          },
          "metadata": {
            "tags": []
          },
          "execution_count": 6
        }
      ]
    },
    {
      "cell_type": "code",
      "metadata": {
        "id": "544bd1c9"
      },
      "source": [
        "X = data.copy().drop(columns=\"perf_true\")\n",
        "y= data[\"perf_true\"]"
      ],
      "id": "544bd1c9",
      "execution_count": 7,
      "outputs": []
    },
    {
      "cell_type": "code",
      "metadata": {
        "colab": {
          "base_uri": "https://localhost:8080/"
        },
        "id": "a9374d7d",
        "outputId": "9f99ae93-6e15-46fd-dc7f-9cdb4d45ace1"
      },
      "source": [
        "mae_arima = mean_absolute_error(data.perf_true,data.perf_pred)\n",
        "mae_arima"
      ],
      "id": "a9374d7d",
      "execution_count": 8,
      "outputs": [
        {
          "output_type": "execute_result",
          "data": {
            "text/plain": [
              "0.00521128782478184"
            ]
          },
          "metadata": {
            "tags": []
          },
          "execution_count": 8
        }
      ]
    },
    {
      "cell_type": "markdown",
      "metadata": {
        "id": "b0780ae2"
      },
      "source": [
        "# GridSearch SVM"
      ],
      "id": "b0780ae2"
    },
    {
      "cell_type": "code",
      "metadata": {
        "colab": {
          "base_uri": "https://localhost:8080/"
        },
        "id": "8cd35fb1",
        "outputId": "cf4a1987-4d27-4b36-f007-66318f4ce490"
      },
      "source": [
        "SCORERS.keys()"
      ],
      "id": "8cd35fb1",
      "execution_count": 9,
      "outputs": [
        {
          "output_type": "execute_result",
          "data": {
            "text/plain": [
              "dict_keys(['explained_variance', 'r2', 'max_error', 'neg_median_absolute_error', 'neg_mean_absolute_error', 'neg_mean_squared_error', 'neg_mean_squared_log_error', 'neg_root_mean_squared_error', 'neg_mean_poisson_deviance', 'neg_mean_gamma_deviance', 'accuracy', 'roc_auc', 'roc_auc_ovr', 'roc_auc_ovo', 'roc_auc_ovr_weighted', 'roc_auc_ovo_weighted', 'balanced_accuracy', 'average_precision', 'neg_log_loss', 'neg_brier_score', 'adjusted_rand_score', 'homogeneity_score', 'completeness_score', 'v_measure_score', 'mutual_info_score', 'adjusted_mutual_info_score', 'normalized_mutual_info_score', 'fowlkes_mallows_score', 'precision', 'precision_macro', 'precision_micro', 'precision_samples', 'precision_weighted', 'recall', 'recall_macro', 'recall_micro', 'recall_samples', 'recall_weighted', 'f1', 'f1_macro', 'f1_micro', 'f1_samples', 'f1_weighted', 'jaccard', 'jaccard_macro', 'jaccard_micro', 'jaccard_samples', 'jaccard_weighted'])"
            ]
          },
          "metadata": {
            "tags": []
          },
          "execution_count": 9
        }
      ]
    },
    {
      "cell_type": "code",
      "metadata": {
        "colab": {
          "base_uri": "https://localhost:8080/"
        },
        "id": "88bcc9da",
        "outputId": "bb089f72-1354-40e2-be72-7ab42568f250"
      },
      "source": [
        "\n",
        "# Instanciate model\n",
        "model_svm = Pipeline([(\"scale\",StandardScaler()),(\"svm\",SVR())])\n",
        "\n",
        "# Hyperparameter search space\n",
        "search_space = {\n",
        "    'svm__kernel': [\"linear\", \"poly\", \"rbf\", \"sigmoid\"],\n",
        "    'svm__C': stats.uniform(0.01, 1000),\n",
        "    'svm__gamma': stats.loguniform(0.001,10),\n",
        "    'svm__coef0': stats.uniform(-5,5),\n",
        "}\n",
        "\n",
        "# Instanciate Random Search\n",
        "search_svm = RandomizedSearchCV(\n",
        "    model_svm, search_space,\n",
        "    n_jobs=-1, scoring='neg_mean_absolute_error', cv=5, n_iter=1, verbose=0)\n",
        "\n",
        "\n",
        "search_svm.fit(X,y)"
      ],
      "id": "88bcc9da",
      "execution_count": 10,
      "outputs": [
        {
          "output_type": "execute_result",
          "data": {
            "text/plain": [
              "RandomizedSearchCV(cv=5, error_score=nan,\n",
              "                   estimator=Pipeline(memory=None,\n",
              "                                      steps=[('scale',\n",
              "                                              StandardScaler(copy=True,\n",
              "                                                             with_mean=True,\n",
              "                                                             with_std=True)),\n",
              "                                             ('svm',\n",
              "                                              SVR(C=1.0, cache_size=200,\n",
              "                                                  coef0=0.0, degree=3,\n",
              "                                                  epsilon=0.1, gamma='scale',\n",
              "                                                  kernel='rbf', max_iter=-1,\n",
              "                                                  shrinking=True, tol=0.001,\n",
              "                                                  verbose=False))],\n",
              "                                      verbose=False),\n",
              "                   iid='deprecated', n_iter=1, n_jobs=-1,\n",
              "                   param_distri...t 0x7fa41ae3f790>,\n",
              "                                        'svm__coef0': <scipy.stats._distn_infrastructure.rv_frozen object at 0x7fa41ae3f810>,\n",
              "                                        'svm__gamma': <scipy.stats._distn_infrastructure.rv_frozen object at 0x7fa41ae3f8d0>,\n",
              "                                        'svm__kernel': ['linear', 'poly', 'rbf',\n",
              "                                                        'sigmoid']},\n",
              "                   pre_dispatch='2*n_jobs', random_state=None, refit=True,\n",
              "                   return_train_score=False, scoring='neg_mean_absolute_error',\n",
              "                   verbose=0)"
            ]
          },
          "metadata": {
            "tags": []
          },
          "execution_count": 10
        }
      ]
    },
    {
      "cell_type": "code",
      "metadata": {
        "colab": {
          "base_uri": "https://localhost:8080/"
        },
        "id": "68d6f337",
        "outputId": "91d9c1f2-5356-41ff-93da-be5411b92d9b"
      },
      "source": [
        "search_svm.best_estimator_"
      ],
      "id": "68d6f337",
      "execution_count": 11,
      "outputs": [
        {
          "output_type": "execute_result",
          "data": {
            "text/plain": [
              "Pipeline(memory=None,\n",
              "         steps=[('scale',\n",
              "                 StandardScaler(copy=True, with_mean=True, with_std=True)),\n",
              "                ('svm',\n",
              "                 SVR(C=756.4761383275566, cache_size=200,\n",
              "                     coef0=-4.983802447756276, degree=3, epsilon=0.1,\n",
              "                     gamma=0.001159700612336527, kernel='linear', max_iter=-1,\n",
              "                     shrinking=True, tol=0.001, verbose=False))],\n",
              "         verbose=False)"
            ]
          },
          "metadata": {
            "tags": []
          },
          "execution_count": 11
        }
      ]
    },
    {
      "cell_type": "code",
      "metadata": {
        "colab": {
          "base_uri": "https://localhost:8080/"
        },
        "id": "2cc68fe9",
        "outputId": "1d69a5ec-88dc-4c19-ae02-578f607ee83f"
      },
      "source": [
        "search_svm.best_score_"
      ],
      "id": "2cc68fe9",
      "execution_count": 12,
      "outputs": [
        {
          "output_type": "execute_result",
          "data": {
            "text/plain": [
              "-0.011892484654970713"
            ]
          },
          "metadata": {
            "tags": []
          },
          "execution_count": 12
        }
      ]
    },
    {
      "cell_type": "markdown",
      "metadata": {
        "id": "60ccfa53"
      },
      "source": [
        "# GridSearch KNN"
      ],
      "id": "60ccfa53"
    },
    {
      "cell_type": "code",
      "metadata": {
        "colab": {
          "base_uri": "https://localhost:8080/"
        },
        "id": "c58f54c8",
        "outputId": "8eb51745-a6b7-4d43-f77f-631dcbd5dea9"
      },
      "source": [
        "model_knn = Pipeline([(\"scale\",StandardScaler()),(\"knn\",KNeighborsRegressor())])\n",
        "\n",
        "param_grid_knn =  {'knn__n_neighbors': range(2,50)}\n",
        "search_knn = GridSearchCV(model_knn, param_grid=param_grid_knn, \n",
        "                          cv=5, n_jobs=-1, verbose=0, scoring='neg_mean_absolute_error')\n",
        "search_knn.fit(X,y)"
      ],
      "id": "c58f54c8",
      "execution_count": 13,
      "outputs": [
        {
          "output_type": "execute_result",
          "data": {
            "text/plain": [
              "GridSearchCV(cv=5, error_score=nan,\n",
              "             estimator=Pipeline(memory=None,\n",
              "                                steps=[('scale',\n",
              "                                        StandardScaler(copy=True,\n",
              "                                                       with_mean=True,\n",
              "                                                       with_std=True)),\n",
              "                                       ('knn',\n",
              "                                        KNeighborsRegressor(algorithm='auto',\n",
              "                                                            leaf_size=30,\n",
              "                                                            metric='minkowski',\n",
              "                                                            metric_params=None,\n",
              "                                                            n_jobs=None,\n",
              "                                                            n_neighbors=5, p=2,\n",
              "                                                            weights='uniform'))],\n",
              "                                verbose=False),\n",
              "             iid='deprecated', n_jobs=-1,\n",
              "             param_grid={'knn__n_neighbors': range(2, 50)},\n",
              "             pre_dispatch='2*n_jobs', refit=True, return_train_score=False,\n",
              "             scoring='neg_mean_absolute_error', verbose=0)"
            ]
          },
          "metadata": {
            "tags": []
          },
          "execution_count": 13
        }
      ]
    },
    {
      "cell_type": "code",
      "metadata": {
        "colab": {
          "base_uri": "https://localhost:8080/"
        },
        "id": "14919d61",
        "outputId": "b4e184a8-5693-42cf-e1c2-f741bbea6cd3"
      },
      "source": [
        "search_knn.best_estimator_"
      ],
      "id": "14919d61",
      "execution_count": 14,
      "outputs": [
        {
          "output_type": "execute_result",
          "data": {
            "text/plain": [
              "Pipeline(memory=None,\n",
              "         steps=[('scale',\n",
              "                 StandardScaler(copy=True, with_mean=True, with_std=True)),\n",
              "                ('knn',\n",
              "                 KNeighborsRegressor(algorithm='auto', leaf_size=30,\n",
              "                                     metric='minkowski', metric_params=None,\n",
              "                                     n_jobs=None, n_neighbors=37, p=2,\n",
              "                                     weights='uniform'))],\n",
              "         verbose=False)"
            ]
          },
          "metadata": {
            "tags": []
          },
          "execution_count": 14
        }
      ]
    },
    {
      "cell_type": "code",
      "metadata": {
        "colab": {
          "base_uri": "https://localhost:8080/"
        },
        "id": "88cd2a00",
        "outputId": "0afdeb3d-9600-4771-b735-c9399a49a73b"
      },
      "source": [
        "search_knn.best_score_"
      ],
      "id": "88cd2a00",
      "execution_count": 15,
      "outputs": [
        {
          "output_type": "execute_result",
          "data": {
            "text/plain": [
              "-0.00549091438848859"
            ]
          },
          "metadata": {
            "tags": []
          },
          "execution_count": 15
        }
      ]
    },
    {
      "cell_type": "markdown",
      "metadata": {
        "id": "75f5d3b1"
      },
      "source": [
        "# GridSearch Ridge"
      ],
      "id": "75f5d3b1"
    },
    {
      "cell_type": "code",
      "metadata": {
        "colab": {
          "base_uri": "https://localhost:8080/"
        },
        "id": "6045f306",
        "outputId": "fbf3d016-f96a-4c29-dad2-d928bfb10135"
      },
      "source": [
        "model_ridge = Pipeline([(\"scale\",StandardScaler()),(\"ridge\",Ridge())])\n",
        "param_grid_ridge =  {'ridge__alpha': np.linspace(0.0001,2,num=1000)}\n",
        "search_ridge = GridSearchCV(model_ridge, param_grid=param_grid_ridge, \n",
        "                              cv=5, n_jobs=-1, verbose=0, scoring='neg_mean_absolute_error')\n",
        "search_ridge.fit(X,y)"
      ],
      "id": "6045f306",
      "execution_count": 16,
      "outputs": [
        {
          "output_type": "execute_result",
          "data": {
            "text/plain": [
              "GridSearchCV(cv=5, error_score=nan,\n",
              "             estimator=Pipeline(memory=None,\n",
              "                                steps=[('scale',\n",
              "                                        StandardScaler(copy=True,\n",
              "                                                       with_mean=True,\n",
              "                                                       with_std=True)),\n",
              "                                       ('ridge',\n",
              "                                        Ridge(alpha=1.0, copy_X=True,\n",
              "                                              fit_intercept=True, max_iter=None,\n",
              "                                              normalize=False,\n",
              "                                              random_state=None, solver='auto',\n",
              "                                              tol=0.001))],\n",
              "                                verbose=False),\n",
              "             iid='deprecated', n_jobs=-1,\n",
              "             param_grid={'ridge__alpha': array([1.0000...\n",
              "       1.96196386e+00, 1.96396577e+00, 1.96596767e+00, 1.96796957e+00,\n",
              "       1.96997147e+00, 1.97197337e+00, 1.97397528e+00, 1.97597718e+00,\n",
              "       1.97797908e+00, 1.97998098e+00, 1.98198288e+00, 1.98398478e+00,\n",
              "       1.98598669e+00, 1.98798859e+00, 1.98999049e+00, 1.99199239e+00,\n",
              "       1.99399429e+00, 1.99599620e+00, 1.99799810e+00, 2.00000000e+00])},\n",
              "             pre_dispatch='2*n_jobs', refit=True, return_train_score=False,\n",
              "             scoring='neg_mean_absolute_error', verbose=0)"
            ]
          },
          "metadata": {
            "tags": []
          },
          "execution_count": 16
        }
      ]
    },
    {
      "cell_type": "code",
      "metadata": {
        "colab": {
          "base_uri": "https://localhost:8080/"
        },
        "id": "9569a02a",
        "outputId": "3207484f-9ebf-4fdd-80da-fa88f299650f"
      },
      "source": [
        "search_ridge.best_estimator_"
      ],
      "id": "9569a02a",
      "execution_count": 17,
      "outputs": [
        {
          "output_type": "execute_result",
          "data": {
            "text/plain": [
              "Pipeline(memory=None,\n",
              "         steps=[('scale',\n",
              "                 StandardScaler(copy=True, with_mean=True, with_std=True)),\n",
              "                ('ridge',\n",
              "                 Ridge(alpha=2.0, copy_X=True, fit_intercept=True,\n",
              "                       max_iter=None, normalize=False, random_state=None,\n",
              "                       solver='auto', tol=0.001))],\n",
              "         verbose=False)"
            ]
          },
          "metadata": {
            "tags": []
          },
          "execution_count": 17
        }
      ]
    },
    {
      "cell_type": "code",
      "metadata": {
        "colab": {
          "base_uri": "https://localhost:8080/"
        },
        "id": "e20b9c75",
        "outputId": "596a1bf7-4eb8-4aeb-c6f2-5daa8345ce0c"
      },
      "source": [
        "search_ridge.best_score_"
      ],
      "id": "e20b9c75",
      "execution_count": 18,
      "outputs": [
        {
          "output_type": "execute_result",
          "data": {
            "text/plain": [
              "-0.0053650466667143"
            ]
          },
          "metadata": {
            "tags": []
          },
          "execution_count": 18
        }
      ]
    },
    {
      "cell_type": "markdown",
      "metadata": {
        "id": "8c9840b6"
      },
      "source": [
        "# GridSearch Lasso"
      ],
      "id": "8c9840b6"
    },
    {
      "cell_type": "code",
      "metadata": {
        "colab": {
          "base_uri": "https://localhost:8080/"
        },
        "id": "078e5361",
        "outputId": "d4767183-76c3-48df-a0f6-a61d0e08536b"
      },
      "source": [
        "model_lasso = Pipeline([(\"scale\",StandardScaler()),(\"lasso\",Lasso())])\n",
        "param_grid_lasso =  {'lasso__alpha': np.linspace(0.0001,2,num=1000)}\n",
        "search_lasso = GridSearchCV(model_lasso, param_grid=param_grid_lasso, \n",
        "                              cv=5, n_jobs=-1, verbose=0, scoring='neg_mean_absolute_error')\n",
        "search_lasso.fit(X,y)"
      ],
      "id": "078e5361",
      "execution_count": 19,
      "outputs": [
        {
          "output_type": "execute_result",
          "data": {
            "text/plain": [
              "GridSearchCV(cv=5, error_score=nan,\n",
              "             estimator=Pipeline(memory=None,\n",
              "                                steps=[('scale',\n",
              "                                        StandardScaler(copy=True,\n",
              "                                                       with_mean=True,\n",
              "                                                       with_std=True)),\n",
              "                                       ('lasso',\n",
              "                                        Lasso(alpha=1.0, copy_X=True,\n",
              "                                              fit_intercept=True, max_iter=1000,\n",
              "                                              normalize=False, positive=False,\n",
              "                                              precompute=False,\n",
              "                                              random_state=None,\n",
              "                                              selection='cyclic', tol=0.0001,\n",
              "                                              warm_start=False))],\n",
              "                                verbose=False),\n",
              "             iid='depreca...\n",
              "       1.96196386e+00, 1.96396577e+00, 1.96596767e+00, 1.96796957e+00,\n",
              "       1.96997147e+00, 1.97197337e+00, 1.97397528e+00, 1.97597718e+00,\n",
              "       1.97797908e+00, 1.97998098e+00, 1.98198288e+00, 1.98398478e+00,\n",
              "       1.98598669e+00, 1.98798859e+00, 1.98999049e+00, 1.99199239e+00,\n",
              "       1.99399429e+00, 1.99599620e+00, 1.99799810e+00, 2.00000000e+00])},\n",
              "             pre_dispatch='2*n_jobs', refit=True, return_train_score=False,\n",
              "             scoring='neg_mean_absolute_error', verbose=0)"
            ]
          },
          "metadata": {
            "tags": []
          },
          "execution_count": 19
        }
      ]
    },
    {
      "cell_type": "code",
      "metadata": {
        "colab": {
          "base_uri": "https://localhost:8080/"
        },
        "id": "94db4b74",
        "outputId": "196d35e6-bc57-45c8-d800-14693f1a5a69"
      },
      "source": [
        "search_lasso.best_estimator_"
      ],
      "id": "94db4b74",
      "execution_count": 20,
      "outputs": [
        {
          "output_type": "execute_result",
          "data": {
            "text/plain": [
              "Pipeline(memory=None,\n",
              "         steps=[('scale',\n",
              "                 StandardScaler(copy=True, with_mean=True, with_std=True)),\n",
              "                ('lasso',\n",
              "                 Lasso(alpha=0.0001, copy_X=True, fit_intercept=True,\n",
              "                       max_iter=1000, normalize=False, positive=False,\n",
              "                       precompute=False, random_state=None, selection='cyclic',\n",
              "                       tol=0.0001, warm_start=False))],\n",
              "         verbose=False)"
            ]
          },
          "metadata": {
            "tags": []
          },
          "execution_count": 20
        }
      ]
    },
    {
      "cell_type": "code",
      "metadata": {
        "colab": {
          "base_uri": "https://localhost:8080/"
        },
        "id": "e03e90ac",
        "outputId": "954c0516-837e-4891-d555-381ae7548258"
      },
      "source": [
        "search_lasso.best_score_"
      ],
      "id": "e03e90ac",
      "execution_count": 21,
      "outputs": [
        {
          "output_type": "execute_result",
          "data": {
            "text/plain": [
              "-0.005317165860904019"
            ]
          },
          "metadata": {
            "tags": []
          },
          "execution_count": 21
        }
      ]
    },
    {
      "cell_type": "markdown",
      "metadata": {
        "id": "870fb6c2"
      },
      "source": [
        "# GridSearch  SGD"
      ],
      "id": "870fb6c2"
    },
    {
      "cell_type": "code",
      "metadata": {
        "colab": {
          "base_uri": "https://localhost:8080/"
        },
        "id": "310a769f",
        "outputId": "fdbbdf2a-6a18-4d80-bb33-549fc64f4378"
      },
      "source": [
        "model_sgd = Pipeline([(\"scale\",StandardScaler()),(\"sgd\",SGDRegressor())]) \n",
        "param_grid_sgd =  {'sgd__alpha': np.linspace(0.0001,2,num=100),\n",
        "                  'sgd__penalty': [\"l2\", \"l1\", \"elasticnet\"],\n",
        "                  \"sgd__l1_ratio\" :np.linspace(0,1,num=10) }\n",
        "search_sgd = GridSearchCV(model_sgd, param_grid=param_grid_sgd, \n",
        "                              cv=5, n_jobs=-1, verbose=2, scoring='neg_mean_absolute_error')\n",
        "search_sgd.fit(X,y)"
      ],
      "id": "310a769f",
      "execution_count": 22,
      "outputs": [
        {
          "output_type": "stream",
          "text": [
            "Fitting 5 folds for each of 3000 candidates, totalling 15000 fits\n"
          ],
          "name": "stdout"
        },
        {
          "output_type": "stream",
          "text": [
            "[Parallel(n_jobs=-1)]: Using backend LokyBackend with 2 concurrent workers.\n",
            "[Parallel(n_jobs=-1)]: Done 668 tasks      | elapsed:    3.4s\n",
            "[Parallel(n_jobs=-1)]: Done 4540 tasks      | elapsed:   21.3s\n",
            "[Parallel(n_jobs=-1)]: Done 11036 tasks      | elapsed:   51.7s\n",
            "[Parallel(n_jobs=-1)]: Done 15000 out of 15000 | elapsed:  1.2min finished\n"
          ],
          "name": "stderr"
        },
        {
          "output_type": "execute_result",
          "data": {
            "text/plain": [
              "GridSearchCV(cv=5, error_score=nan,\n",
              "             estimator=Pipeline(memory=None,\n",
              "                                steps=[('scale',\n",
              "                                        StandardScaler(copy=True,\n",
              "                                                       with_mean=True,\n",
              "                                                       with_std=True)),\n",
              "                                       ('sgd',\n",
              "                                        SGDRegressor(alpha=0.0001,\n",
              "                                                     average=False,\n",
              "                                                     early_stopping=False,\n",
              "                                                     epsilon=0.1, eta0=0.01,\n",
              "                                                     fit_intercept=True,\n",
              "                                                     l1_ratio=0.15,\n",
              "                                                     learning_rate='invscaling',\n",
              "                                                     loss='squared_loss',\n",
              "                                                     max_iter=1000,\n",
              "                                                     n_iter_no_change=5,\n",
              "                                                     penalty='l...\n",
              "       1.85859293e+00, 1.87879394e+00, 1.89899495e+00, 1.91919596e+00,\n",
              "       1.93939697e+00, 1.95959798e+00, 1.97979899e+00, 2.00000000e+00]),\n",
              "                         'sgd__l1_ratio': array([0.        , 0.11111111, 0.22222222, 0.33333333, 0.44444444,\n",
              "       0.55555556, 0.66666667, 0.77777778, 0.88888889, 1.        ]),\n",
              "                         'sgd__penalty': ['l2', 'l1', 'elasticnet']},\n",
              "             pre_dispatch='2*n_jobs', refit=True, return_train_score=False,\n",
              "             scoring='neg_mean_absolute_error', verbose=2)"
            ]
          },
          "metadata": {
            "tags": []
          },
          "execution_count": 22
        }
      ]
    },
    {
      "cell_type": "code",
      "metadata": {
        "colab": {
          "base_uri": "https://localhost:8080/"
        },
        "id": "5852e28e",
        "outputId": "3d817611-4483-40d3-eca7-b01cb9dc66d8"
      },
      "source": [
        "search_sgd.best_estimator_"
      ],
      "id": "5852e28e",
      "execution_count": 23,
      "outputs": [
        {
          "output_type": "execute_result",
          "data": {
            "text/plain": [
              "Pipeline(memory=None,\n",
              "         steps=[('scale',\n",
              "                 StandardScaler(copy=True, with_mean=True, with_std=True)),\n",
              "                ('sgd',\n",
              "                 SGDRegressor(alpha=0.0001, average=False, early_stopping=False,\n",
              "                              epsilon=0.1, eta0=0.01, fit_intercept=True,\n",
              "                              l1_ratio=0.6666666666666666,\n",
              "                              learning_rate='invscaling', loss='squared_loss',\n",
              "                              max_iter=1000, n_iter_no_change=5, penalty='l1',\n",
              "                              power_t=0.25, random_state=None, shuffle=True,\n",
              "                              tol=0.001, validation_fraction=0.1, verbose=0,\n",
              "                              warm_start=False))],\n",
              "         verbose=False)"
            ]
          },
          "metadata": {
            "tags": []
          },
          "execution_count": 23
        }
      ]
    },
    {
      "cell_type": "code",
      "metadata": {
        "colab": {
          "base_uri": "https://localhost:8080/"
        },
        "id": "051eecf6",
        "outputId": "6596f62e-12e0-4f27-d31f-0dd6974764a7"
      },
      "source": [
        "search_sgd.best_score_"
      ],
      "id": "051eecf6",
      "execution_count": 24,
      "outputs": [
        {
          "output_type": "execute_result",
          "data": {
            "text/plain": [
              "-0.005276649979264778"
            ]
          },
          "metadata": {
            "tags": []
          },
          "execution_count": 24
        }
      ]
    },
    {
      "cell_type": "markdown",
      "metadata": {
        "id": "b7d7845c"
      },
      "source": [
        "# GridSearch Descision Tree"
      ],
      "id": "b7d7845c"
    },
    {
      "cell_type": "code",
      "metadata": {
        "colab": {
          "base_uri": "https://localhost:8080/"
        },
        "id": "77b8d0ad",
        "outputId": "33af94b0-6fa9-4ad3-9da0-c13ef038f60d"
      },
      "source": [
        "model_des_tree = Pipeline([(\"scale\",StandardScaler()),(\"desTree\",DecisionTreeRegressor())]) \n",
        "param_grid_des_tree =  {'desTree__max_depth': range(2,100),\n",
        "                  \"desTree__min_samples_leaf\" :range(2,100) }\n",
        "search_des_tree = GridSearchCV(model_des_tree, param_grid=param_grid_des_tree, \n",
        "                              cv=5, n_jobs=-1, verbose=2, scoring='neg_mean_absolute_error')\n",
        "search_des_tree.fit(X,y)"
      ],
      "id": "77b8d0ad",
      "execution_count": 25,
      "outputs": [
        {
          "output_type": "stream",
          "text": [
            "[Parallel(n_jobs=-1)]: Using backend LokyBackend with 2 concurrent workers.\n"
          ],
          "name": "stderr"
        },
        {
          "output_type": "stream",
          "text": [
            "Fitting 5 folds for each of 9604 candidates, totalling 48020 fits\n"
          ],
          "name": "stdout"
        },
        {
          "output_type": "stream",
          "text": [
            "[Parallel(n_jobs=-1)]: Done 700 tasks      | elapsed:    3.3s\n",
            "[Parallel(n_jobs=-1)]: Done 4572 tasks      | elapsed:   21.3s\n",
            "[Parallel(n_jobs=-1)]: Done 11068 tasks      | elapsed:   51.6s\n",
            "[Parallel(n_jobs=-1)]: Done 20124 tasks      | elapsed:  1.6min\n",
            "[Parallel(n_jobs=-1)]: Done 31804 tasks      | elapsed:  2.5min\n",
            "[Parallel(n_jobs=-1)]: Done 46044 tasks      | elapsed:  3.6min\n",
            "[Parallel(n_jobs=-1)]: Done 48020 out of 48020 | elapsed:  3.7min finished\n"
          ],
          "name": "stderr"
        },
        {
          "output_type": "execute_result",
          "data": {
            "text/plain": [
              "GridSearchCV(cv=5, error_score=nan,\n",
              "             estimator=Pipeline(memory=None,\n",
              "                                steps=[('scale',\n",
              "                                        StandardScaler(copy=True,\n",
              "                                                       with_mean=True,\n",
              "                                                       with_std=True)),\n",
              "                                       ('desTree',\n",
              "                                        DecisionTreeRegressor(ccp_alpha=0.0,\n",
              "                                                              criterion='mse',\n",
              "                                                              max_depth=None,\n",
              "                                                              max_features=None,\n",
              "                                                              max_leaf_nodes=None,\n",
              "                                                              min_impurity_decrease=0.0,\n",
              "                                                              min_impurity_split=None,\n",
              "                                                              min_samples_leaf=1,\n",
              "                                                              min_samples_split=2,\n",
              "                                                              min_weight_fraction_leaf=0.0,\n",
              "                                                              presort='deprecated',\n",
              "                                                              random_state=None,\n",
              "                                                              splitter='best'))],\n",
              "                                verbose=False),\n",
              "             iid='deprecated', n_jobs=-1,\n",
              "             param_grid={'desTree__max_depth': range(2, 100),\n",
              "                         'desTree__min_samples_leaf': range(2, 100)},\n",
              "             pre_dispatch='2*n_jobs', refit=True, return_train_score=False,\n",
              "             scoring='neg_mean_absolute_error', verbose=2)"
            ]
          },
          "metadata": {
            "tags": []
          },
          "execution_count": 25
        }
      ]
    },
    {
      "cell_type": "code",
      "metadata": {
        "colab": {
          "base_uri": "https://localhost:8080/"
        },
        "id": "eba8dfb9",
        "outputId": "1b08a291-86f1-471c-fa1d-9f4fc0d5f91a"
      },
      "source": [
        "search_des_tree.best_estimator_"
      ],
      "id": "eba8dfb9",
      "execution_count": 26,
      "outputs": [
        {
          "output_type": "execute_result",
          "data": {
            "text/plain": [
              "Pipeline(memory=None,\n",
              "         steps=[('scale',\n",
              "                 StandardScaler(copy=True, with_mean=True, with_std=True)),\n",
              "                ('desTree',\n",
              "                 DecisionTreeRegressor(ccp_alpha=0.0, criterion='mse',\n",
              "                                       max_depth=5, max_features=None,\n",
              "                                       max_leaf_nodes=None,\n",
              "                                       min_impurity_decrease=0.0,\n",
              "                                       min_impurity_split=None,\n",
              "                                       min_samples_leaf=52, min_samples_split=2,\n",
              "                                       min_weight_fraction_leaf=0.0,\n",
              "                                       presort='deprecated', random_state=None,\n",
              "                                       splitter='best'))],\n",
              "         verbose=False)"
            ]
          },
          "metadata": {
            "tags": []
          },
          "execution_count": 26
        }
      ]
    },
    {
      "cell_type": "code",
      "metadata": {
        "colab": {
          "base_uri": "https://localhost:8080/"
        },
        "id": "070ba3ee",
        "outputId": "f2c761f8-cb93-4a22-9bab-d6b18410b723"
      },
      "source": [
        "search_des_tree.best_score_"
      ],
      "id": "070ba3ee",
      "execution_count": 27,
      "outputs": [
        {
          "output_type": "execute_result",
          "data": {
            "text/plain": [
              "-0.005599471501856607"
            ]
          },
          "metadata": {
            "tags": []
          },
          "execution_count": 27
        }
      ]
    },
    {
      "cell_type": "markdown",
      "metadata": {
        "id": "de5f9537"
      },
      "source": [
        "# GridSearch Random forest"
      ],
      "id": "de5f9537"
    },
    {
      "cell_type": "code",
      "metadata": {
        "colab": {
          "base_uri": "https://localhost:8080/"
        },
        "id": "1cfab479",
        "outputId": "29dcf209-4e8e-4ce9-d5d6-379ea89c3aae"
      },
      "source": [
        "model_rand_tree =  Pipeline([(\"scale\",StandardScaler()),(\"forest\",RandomForestRegressor(criterion=\"mae\"))]) \n",
        "param_grid_rand_tree =  {\"forest__n_estimators\": [10,50, 100, 300, 500, 1000],\n",
        "                         'forest__max_depth': np.linspace(5,500,10),\n",
        "                          \"forest__min_samples_leaf\" :[5] }\n",
        "search_rand_tree = GridSearchCV(model_rand_tree, param_grid=param_grid_rand_tree, \n",
        "                              cv=5, n_jobs=-1, verbose=2, scoring='neg_mean_absolute_error')\n",
        "search_rand_tree.fit(X,y)"
      ],
      "id": "1cfab479",
      "execution_count": null,
      "outputs": [
        {
          "output_type": "stream",
          "text": [
            "[Parallel(n_jobs=-1)]: Using backend LokyBackend with 2 concurrent workers.\n"
          ],
          "name": "stderr"
        },
        {
          "output_type": "stream",
          "text": [
            "Fitting 5 folds for each of 60 candidates, totalling 300 fits\n"
          ],
          "name": "stdout"
        },
        {
          "output_type": "stream",
          "text": [
            "[Parallel(n_jobs=-1)]: Done  45 tasks      | elapsed:  1.2min\n"
          ],
          "name": "stderr"
        }
      ]
    },
    {
      "cell_type": "code",
      "metadata": {
        "id": "4681b8d6"
      },
      "source": [
        "search_rand_tree.best_estimator_"
      ],
      "id": "4681b8d6",
      "execution_count": null,
      "outputs": []
    },
    {
      "cell_type": "code",
      "metadata": {
        "id": "5780f5b5"
      },
      "source": [
        "search_rand_tree.best_score_"
      ],
      "id": "5780f5b5",
      "execution_count": null,
      "outputs": []
    },
    {
      "cell_type": "markdown",
      "metadata": {
        "id": "c3e54d1c"
      },
      "source": [
        "# GridSearch Gradient Boost"
      ],
      "id": "c3e54d1c"
    },
    {
      "cell_type": "code",
      "metadata": {
        "colab": {
          "base_uri": "https://localhost:8080/"
        },
        "id": "7d282a00",
        "outputId": "978c4658-1894-4597-c663-21ddd093afdc"
      },
      "source": [
        "model_gboost = Pipeline([(\"scale\",StandardScaler()),(\"gboost\",GradientBoostingRegressor(criterion=\"mae\"))]) \n",
        "param_grid_gboost =  {'gboost__n_estimators': [10,50, 100, 300, 500, 1000],\n",
        "                      \"gboost__learning_rate\": [0.0001,0.001,0.003,0.01,0.03,0.1,0.3,1]}\n",
        "search_gboost = GridSearchCV(model_gboost, param_grid=param_grid_gboost, \n",
        "                              cv=5, n_jobs=-1, verbose=2, scoring='neg_mean_absolute_error')\n",
        "search_gboost.fit(X,y)"
      ],
      "id": "7d282a00",
      "execution_count": 32,
      "outputs": [
        {
          "output_type": "stream",
          "text": [
            "Fitting 5 folds for each of 48 candidates, totalling 240 fits\n"
          ],
          "name": "stdout"
        },
        {
          "output_type": "stream",
          "text": [
            "[Parallel(n_jobs=-1)]: Using backend LokyBackend with 2 concurrent workers.\n",
            "[Parallel(n_jobs=-1)]: Done  37 tasks      | elapsed:  1.6min\n",
            "[Parallel(n_jobs=-1)]: Done 158 tasks      | elapsed:  9.1min\n",
            "[Parallel(n_jobs=-1)]: Done 240 out of 240 | elapsed: 15.8min finished\n"
          ],
          "name": "stderr"
        },
        {
          "output_type": "execute_result",
          "data": {
            "text/plain": [
              "GridSearchCV(cv=5, error_score=nan,\n",
              "             estimator=Pipeline(memory=None,\n",
              "                                steps=[('scale',\n",
              "                                        StandardScaler(copy=True,\n",
              "                                                       with_mean=True,\n",
              "                                                       with_std=True)),\n",
              "                                       ('gboost',\n",
              "                                        GradientBoostingRegressor(alpha=0.9,\n",
              "                                                                  ccp_alpha=0.0,\n",
              "                                                                  criterion='mae',\n",
              "                                                                  init=None,\n",
              "                                                                  learning_rate=0.1,\n",
              "                                                                  loss='ls',\n",
              "                                                                  max_depth=3,\n",
              "                                                                  max_features=None,\n",
              "                                                                  max_leaf_nodes=None,\n",
              "                                                                  min_impurity_decrease=0.0,\n",
              "                                                                  min_impurity_split=None...\n",
              "                                                                  subsample=1.0,\n",
              "                                                                  tol=0.0001,\n",
              "                                                                  validation_fraction=0.1,\n",
              "                                                                  verbose=0,\n",
              "                                                                  warm_start=False))],\n",
              "                                verbose=False),\n",
              "             iid='deprecated', n_jobs=-1,\n",
              "             param_grid={'gboost__learning_rate': [0.0001, 0.001, 0.003, 0.01,\n",
              "                                                   0.03, 0.1, 0.3, 1],\n",
              "                         'gboost__n_estimators': [10, 50, 100, 300, 500, 1000]},\n",
              "             pre_dispatch='2*n_jobs', refit=True, return_train_score=False,\n",
              "             scoring='neg_mean_absolute_error', verbose=2)"
            ]
          },
          "metadata": {
            "tags": []
          },
          "execution_count": 32
        }
      ]
    },
    {
      "cell_type": "code",
      "metadata": {
        "id": "ee901b28",
        "colab": {
          "base_uri": "https://localhost:8080/"
        },
        "outputId": "d9a321a7-8453-4090-9bad-e2126c12fd97"
      },
      "source": [
        "search_gboost.best_estimator_"
      ],
      "id": "ee901b28",
      "execution_count": 33,
      "outputs": [
        {
          "output_type": "execute_result",
          "data": {
            "text/plain": [
              "Pipeline(memory=None,\n",
              "         steps=[('scale',\n",
              "                 StandardScaler(copy=True, with_mean=True, with_std=True)),\n",
              "                ('gboost',\n",
              "                 GradientBoostingRegressor(alpha=0.9, ccp_alpha=0.0,\n",
              "                                           criterion='mae', init=None,\n",
              "                                           learning_rate=0.01, loss='ls',\n",
              "                                           max_depth=3, max_features=None,\n",
              "                                           max_leaf_nodes=None,\n",
              "                                           min_impurity_decrease=0.0,\n",
              "                                           min_impurity_split=None,\n",
              "                                           min_samples_leaf=1,\n",
              "                                           min_samples_split=2,\n",
              "                                           min_weight_fraction_leaf=0.0,\n",
              "                                           n_estimators=300,\n",
              "                                           n_iter_no_change=None,\n",
              "                                           presort='deprecated',\n",
              "                                           random_state=None, subsample=1.0,\n",
              "                                           tol=0.0001, validation_fraction=0.1,\n",
              "                                           verbose=0, warm_start=False))],\n",
              "         verbose=False)"
            ]
          },
          "metadata": {
            "tags": []
          },
          "execution_count": 33
        }
      ]
    },
    {
      "cell_type": "code",
      "metadata": {
        "id": "b1766ccf",
        "colab": {
          "base_uri": "https://localhost:8080/"
        },
        "outputId": "4200f26a-4275-4f00-b20d-314007c96a45"
      },
      "source": [
        "search_gboost.best_score_"
      ],
      "id": "b1766ccf",
      "execution_count": 34,
      "outputs": [
        {
          "output_type": "execute_result",
          "data": {
            "text/plain": [
              "-0.005408516785120936"
            ]
          },
          "metadata": {
            "tags": []
          },
          "execution_count": 34
        }
      ]
    },
    {
      "cell_type": "markdown",
      "metadata": {
        "id": "a017cd12"
      },
      "source": [
        "# GridSearch Ada Boost"
      ],
      "id": "a017cd12"
    },
    {
      "cell_type": "code",
      "metadata": {
        "id": "f073172e",
        "colab": {
          "base_uri": "https://localhost:8080/"
        },
        "outputId": "3a95d474-c131-4fc6-b613-58184fa63f28"
      },
      "source": [
        "model_aboost = Pipeline([(\"scale\",StandardScaler()),(\"aboost\",AdaBoostRegressor())])\n",
        "param_aboost =  {'aboost__n_estimators': [10,50, 100, 300, 500, 1000],\n",
        "                      \"aboost__learning_rate\": [0.0001,0.001,0.003,0.01,0.03,0.1,0.3,1],\n",
        "                      \"aboost__loss\":['linear', 'square', 'exponential']}\n",
        "search_aboost = GridSearchCV(model_aboost, param_grid=param_aboost, \n",
        "                              cv=5, n_jobs=-1, verbose=2, scoring='neg_mean_absolute_error')\n",
        "search_aboost.fit(X,y)"
      ],
      "id": "f073172e",
      "execution_count": 35,
      "outputs": [
        {
          "output_type": "stream",
          "text": [
            "Fitting 5 folds for each of 144 candidates, totalling 720 fits\n"
          ],
          "name": "stdout"
        },
        {
          "output_type": "stream",
          "text": [
            "[Parallel(n_jobs=-1)]: Using backend LokyBackend with 2 concurrent workers.\n",
            "[Parallel(n_jobs=-1)]: Done  49 tasks      | elapsed:   20.7s\n",
            "[Parallel(n_jobs=-1)]: Done 170 tasks      | elapsed:  1.5min\n",
            "[Parallel(n_jobs=-1)]: Done 373 tasks      | elapsed:  3.4min\n",
            "[Parallel(n_jobs=-1)]: Done 656 tasks      | elapsed:  5.4min\n",
            "[Parallel(n_jobs=-1)]: Done 720 out of 720 | elapsed:  5.9min finished\n"
          ],
          "name": "stderr"
        },
        {
          "output_type": "execute_result",
          "data": {
            "text/plain": [
              "GridSearchCV(cv=5, error_score=nan,\n",
              "             estimator=Pipeline(memory=None,\n",
              "                                steps=[('scale',\n",
              "                                        StandardScaler(copy=True,\n",
              "                                                       with_mean=True,\n",
              "                                                       with_std=True)),\n",
              "                                       ('aboost',\n",
              "                                        AdaBoostRegressor(base_estimator=None,\n",
              "                                                          learning_rate=1.0,\n",
              "                                                          loss='linear',\n",
              "                                                          n_estimators=50,\n",
              "                                                          random_state=None))],\n",
              "                                verbose=False),\n",
              "             iid='deprecated', n_jobs=-1,\n",
              "             param_grid={'aboost__learning_rate': [0.0001, 0.001, 0.003, 0.01,\n",
              "                                                   0.03, 0.1, 0.3, 1],\n",
              "                         'aboost__loss': ['linear', 'square', 'exponential'],\n",
              "                         'aboost__n_estimators': [10, 50, 100, 300, 500, 1000]},\n",
              "             pre_dispatch='2*n_jobs', refit=True, return_train_score=False,\n",
              "             scoring='neg_mean_absolute_error', verbose=2)"
            ]
          },
          "metadata": {
            "tags": []
          },
          "execution_count": 35
        }
      ]
    },
    {
      "cell_type": "code",
      "metadata": {
        "id": "6159026a"
      },
      "source": [
        "search_aboost.best_estimator_"
      ],
      "id": "6159026a",
      "execution_count": null,
      "outputs": []
    },
    {
      "cell_type": "code",
      "metadata": {
        "id": "50d8eac8"
      },
      "source": [
        "search_aboost.best_score_"
      ],
      "id": "50d8eac8",
      "execution_count": null,
      "outputs": []
    },
    {
      "cell_type": "markdown",
      "metadata": {
        "id": "cb529078"
      },
      "source": [
        "# Stacking "
      ],
      "id": "cb529078"
    },
    {
      "cell_type": "code",
      "metadata": {
        "id": "63bfd230",
        "colab": {
          "base_uri": "https://localhost:8080/"
        },
        "outputId": "a722d81a-df23-44f5-b89d-9fb6e49b42c7"
      },
      "source": [
        "gboost = search_gboost.best_estimator_\n",
        "ridge = search_ridge.best_estimator_\n",
        "lasso = search_lasso.best_estimator_\n",
        "svm = search_svm.best_estimator_\n",
        "adaboost = search_aboost.best_estimator_\n",
        "forest = search_rand_tree.best_estimator_\n",
        "desTree = search_des_tree.best_estimator_\n",
        "sgd = search_sgd.best_estimator_\n",
        "knn = search_knn.best_estimator_\n",
        "\n",
        "\n",
        "\n",
        "\n",
        "model_stacking = VotingRegressor(\n",
        "    estimators = [(\"gboost\", gboost),(\"adaboost\", adaboost),(\"ridge\", ridge),(\"svm\", svm),\n",
        "                 (\"lasso\", lasso),(\"forest\", forest),(\"desTree\", desTree),(\"sgd\", sgd),(\"knn\", knn)],\n",
        "    weights = [1,1,1,-1,1,1,1,1,1], # to equally weight the two models\n",
        "    n_jobs=-1\n",
        ")\n",
        "\n",
        "score = cross_val_score(model_stacking, X, y, cv=5, scoring='neg_mean_absolute_error', n_jobs=-1)\n",
        "print(score.std())\n",
        "score.mean()"
      ],
      "id": "63bfd230",
      "execution_count": 38,
      "outputs": [
        {
          "output_type": "stream",
          "text": [
            "0.00047571785599926606\n"
          ],
          "name": "stdout"
        },
        {
          "output_type": "execute_result",
          "data": {
            "text/plain": [
              "-0.0055317570269267004"
            ]
          },
          "metadata": {
            "tags": []
          },
          "execution_count": 0
        }
      ]
    }
  ]
}